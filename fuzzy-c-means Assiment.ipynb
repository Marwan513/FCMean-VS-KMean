{
 "cells": [
  {
   "cell_type": "markdown",
   "metadata": {
    "id": "PapUti4HpOMx"
   },
   "source": [
    "# preparing data to use\n",
    "\n"
   ]
  },
  {
   "cell_type": "markdown",
   "metadata": {},
   "source": [
    "## install libraries"
   ]
  },
  {
   "cell_type": "code",
   "execution_count": 1,
   "metadata": {
    "colab": {
     "base_uri": "https://localhost:8080/"
    },
    "executionInfo": {
     "elapsed": 43350,
     "status": "ok",
     "timestamp": 1666374320559,
     "user": {
      "displayName": "Marwan Mohamed",
      "userId": "09285816182378030657"
     },
     "user_tz": -120
    },
    "id": "tFnKNt9gpOM1",
    "outputId": "206c8710-9400-4e25-916d-23a096e9c0ca",
    "scrolled": true
   },
   "outputs": [],
   "source": [
    "# !pip install pandas --upgrade --quiet\n",
    "# !pip install numpy --upgrade --quiet\n",
    "# !pip install fuzzy-c-means --upgrade --quiet\n",
    "# !pip install matplotlib seaborn --upgrade --quiet"
   ]
  },
  {
   "cell_type": "markdown",
   "metadata": {},
   "source": [
    "## import libraries"
   ]
  },
  {
   "cell_type": "code",
   "execution_count": 2,
   "metadata": {
    "executionInfo": {
     "elapsed": 1713,
     "status": "ok",
     "timestamp": 1666374322264,
     "user": {
      "displayName": "Marwan Mohamed",
      "userId": "09285816182378030657"
     },
     "user_tz": -120
    },
    "id": "k0RLDECfpOM2"
   },
   "outputs": [],
   "source": [
    "import pandas as pd\n",
    "import numpy as np\n",
    "import matplotlib.pyplot as plt\n",
    "import seaborn as sns\n",
    "%matplotlib inline\n",
    "from fcmeans import FCM \n",
    "from sklearn.cluster import KMeans"
   ]
  },
  {
   "cell_type": "markdown",
   "metadata": {
    "id": "8ud6jT5ypOMz"
   },
   "source": [
    "## read data"
   ]
  },
  {
   "cell_type": "code",
   "execution_count": 3,
   "metadata": {
    "colab": {
     "base_uri": "https://localhost:8080/",
     "height": 424
    },
    "executionInfo": {
     "elapsed": 47,
     "status": "ok",
     "timestamp": 1666374322265,
     "user": {
      "displayName": "Marwan Mohamed",
      "userId": "09285816182378030657"
     },
     "user_tz": -120
    },
    "id": "TpXeHZWJpOM3",
    "outputId": "6f07fef8-8a8d-4ba8-efd1-a9cfe88f9d7c"
   },
   "outputs": [
    {
     "data": {
      "text/html": [
       "<div>\n",
       "<style scoped>\n",
       "    .dataframe tbody tr th:only-of-type {\n",
       "        vertical-align: middle;\n",
       "    }\n",
       "\n",
       "    .dataframe tbody tr th {\n",
       "        vertical-align: top;\n",
       "    }\n",
       "\n",
       "    .dataframe thead th {\n",
       "        text-align: right;\n",
       "    }\n",
       "</style>\n",
       "<table border=\"1\" class=\"dataframe\">\n",
       "  <thead>\n",
       "    <tr style=\"text-align: right;\">\n",
       "      <th></th>\n",
       "      <th>CustomerID</th>\n",
       "      <th>Gender</th>\n",
       "      <th>Age</th>\n",
       "      <th>Annual Income (k$)</th>\n",
       "      <th>Spending Score (1-100)</th>\n",
       "    </tr>\n",
       "  </thead>\n",
       "  <tbody>\n",
       "    <tr>\n",
       "      <th>0</th>\n",
       "      <td>1</td>\n",
       "      <td>Male</td>\n",
       "      <td>19</td>\n",
       "      <td>15</td>\n",
       "      <td>39</td>\n",
       "    </tr>\n",
       "    <tr>\n",
       "      <th>1</th>\n",
       "      <td>2</td>\n",
       "      <td>Male</td>\n",
       "      <td>21</td>\n",
       "      <td>15</td>\n",
       "      <td>81</td>\n",
       "    </tr>\n",
       "    <tr>\n",
       "      <th>2</th>\n",
       "      <td>3</td>\n",
       "      <td>Female</td>\n",
       "      <td>20</td>\n",
       "      <td>16</td>\n",
       "      <td>6</td>\n",
       "    </tr>\n",
       "    <tr>\n",
       "      <th>3</th>\n",
       "      <td>4</td>\n",
       "      <td>Female</td>\n",
       "      <td>23</td>\n",
       "      <td>16</td>\n",
       "      <td>77</td>\n",
       "    </tr>\n",
       "    <tr>\n",
       "      <th>4</th>\n",
       "      <td>5</td>\n",
       "      <td>Female</td>\n",
       "      <td>31</td>\n",
       "      <td>17</td>\n",
       "      <td>40</td>\n",
       "    </tr>\n",
       "    <tr>\n",
       "      <th>...</th>\n",
       "      <td>...</td>\n",
       "      <td>...</td>\n",
       "      <td>...</td>\n",
       "      <td>...</td>\n",
       "      <td>...</td>\n",
       "    </tr>\n",
       "    <tr>\n",
       "      <th>195</th>\n",
       "      <td>196</td>\n",
       "      <td>Female</td>\n",
       "      <td>35</td>\n",
       "      <td>120</td>\n",
       "      <td>79</td>\n",
       "    </tr>\n",
       "    <tr>\n",
       "      <th>196</th>\n",
       "      <td>197</td>\n",
       "      <td>Female</td>\n",
       "      <td>45</td>\n",
       "      <td>126</td>\n",
       "      <td>28</td>\n",
       "    </tr>\n",
       "    <tr>\n",
       "      <th>197</th>\n",
       "      <td>198</td>\n",
       "      <td>Male</td>\n",
       "      <td>32</td>\n",
       "      <td>126</td>\n",
       "      <td>74</td>\n",
       "    </tr>\n",
       "    <tr>\n",
       "      <th>198</th>\n",
       "      <td>199</td>\n",
       "      <td>Male</td>\n",
       "      <td>32</td>\n",
       "      <td>137</td>\n",
       "      <td>18</td>\n",
       "    </tr>\n",
       "    <tr>\n",
       "      <th>199</th>\n",
       "      <td>200</td>\n",
       "      <td>Male</td>\n",
       "      <td>30</td>\n",
       "      <td>137</td>\n",
       "      <td>83</td>\n",
       "    </tr>\n",
       "  </tbody>\n",
       "</table>\n",
       "<p>200 rows × 5 columns</p>\n",
       "</div>"
      ],
      "text/plain": [
       "     CustomerID  Gender  Age  Annual Income (k$)  Spending Score (1-100)\n",
       "0             1    Male   19                  15                      39\n",
       "1             2    Male   21                  15                      81\n",
       "2             3  Female   20                  16                       6\n",
       "3             4  Female   23                  16                      77\n",
       "4             5  Female   31                  17                      40\n",
       "..          ...     ...  ...                 ...                     ...\n",
       "195         196  Female   35                 120                      79\n",
       "196         197  Female   45                 126                      28\n",
       "197         198    Male   32                 126                      74\n",
       "198         199    Male   32                 137                      18\n",
       "199         200    Male   30                 137                      83\n",
       "\n",
       "[200 rows x 5 columns]"
      ]
     },
     "execution_count": 3,
     "metadata": {},
     "output_type": "execute_result"
    }
   ],
   "source": [
    "df = pd.read_csv('Mall_Customers.csv')\n",
    "df"
   ]
  },
  {
   "cell_type": "markdown",
   "metadata": {},
   "source": [
    "## drop unimportant columns and encode the data"
   ]
  },
  {
   "cell_type": "code",
   "execution_count": 4,
   "metadata": {
    "colab": {
     "base_uri": "https://localhost:8080/",
     "height": 424
    },
    "executionInfo": {
     "elapsed": 46,
     "status": "ok",
     "timestamp": 1666374322266,
     "user": {
      "displayName": "Marwan Mohamed",
      "userId": "09285816182378030657"
     },
     "user_tz": -120
    },
    "id": "zAQX062zpOM4",
    "outputId": "9ef3533f-20d5-457a-b705-02a772601ec3"
   },
   "outputs": [
    {
     "data": {
      "text/html": [
       "<div>\n",
       "<style scoped>\n",
       "    .dataframe tbody tr th:only-of-type {\n",
       "        vertical-align: middle;\n",
       "    }\n",
       "\n",
       "    .dataframe tbody tr th {\n",
       "        vertical-align: top;\n",
       "    }\n",
       "\n",
       "    .dataframe thead th {\n",
       "        text-align: right;\n",
       "    }\n",
       "</style>\n",
       "<table border=\"1\" class=\"dataframe\">\n",
       "  <thead>\n",
       "    <tr style=\"text-align: right;\">\n",
       "      <th></th>\n",
       "      <th>Gender</th>\n",
       "      <th>Age</th>\n",
       "      <th>Annual Income (k$)</th>\n",
       "      <th>Spending Score (1-100)</th>\n",
       "    </tr>\n",
       "  </thead>\n",
       "  <tbody>\n",
       "    <tr>\n",
       "      <th>0</th>\n",
       "      <td>Male</td>\n",
       "      <td>19</td>\n",
       "      <td>15</td>\n",
       "      <td>39</td>\n",
       "    </tr>\n",
       "    <tr>\n",
       "      <th>1</th>\n",
       "      <td>Male</td>\n",
       "      <td>21</td>\n",
       "      <td>15</td>\n",
       "      <td>81</td>\n",
       "    </tr>\n",
       "    <tr>\n",
       "      <th>2</th>\n",
       "      <td>Female</td>\n",
       "      <td>20</td>\n",
       "      <td>16</td>\n",
       "      <td>6</td>\n",
       "    </tr>\n",
       "    <tr>\n",
       "      <th>3</th>\n",
       "      <td>Female</td>\n",
       "      <td>23</td>\n",
       "      <td>16</td>\n",
       "      <td>77</td>\n",
       "    </tr>\n",
       "    <tr>\n",
       "      <th>4</th>\n",
       "      <td>Female</td>\n",
       "      <td>31</td>\n",
       "      <td>17</td>\n",
       "      <td>40</td>\n",
       "    </tr>\n",
       "    <tr>\n",
       "      <th>...</th>\n",
       "      <td>...</td>\n",
       "      <td>...</td>\n",
       "      <td>...</td>\n",
       "      <td>...</td>\n",
       "    </tr>\n",
       "    <tr>\n",
       "      <th>195</th>\n",
       "      <td>Female</td>\n",
       "      <td>35</td>\n",
       "      <td>120</td>\n",
       "      <td>79</td>\n",
       "    </tr>\n",
       "    <tr>\n",
       "      <th>196</th>\n",
       "      <td>Female</td>\n",
       "      <td>45</td>\n",
       "      <td>126</td>\n",
       "      <td>28</td>\n",
       "    </tr>\n",
       "    <tr>\n",
       "      <th>197</th>\n",
       "      <td>Male</td>\n",
       "      <td>32</td>\n",
       "      <td>126</td>\n",
       "      <td>74</td>\n",
       "    </tr>\n",
       "    <tr>\n",
       "      <th>198</th>\n",
       "      <td>Male</td>\n",
       "      <td>32</td>\n",
       "      <td>137</td>\n",
       "      <td>18</td>\n",
       "    </tr>\n",
       "    <tr>\n",
       "      <th>199</th>\n",
       "      <td>Male</td>\n",
       "      <td>30</td>\n",
       "      <td>137</td>\n",
       "      <td>83</td>\n",
       "    </tr>\n",
       "  </tbody>\n",
       "</table>\n",
       "<p>200 rows × 4 columns</p>\n",
       "</div>"
      ],
      "text/plain": [
       "     Gender  Age  Annual Income (k$)  Spending Score (1-100)\n",
       "0      Male   19                  15                      39\n",
       "1      Male   21                  15                      81\n",
       "2    Female   20                  16                       6\n",
       "3    Female   23                  16                      77\n",
       "4    Female   31                  17                      40\n",
       "..      ...  ...                 ...                     ...\n",
       "195  Female   35                 120                      79\n",
       "196  Female   45                 126                      28\n",
       "197    Male   32                 126                      74\n",
       "198    Male   32                 137                      18\n",
       "199    Male   30                 137                      83\n",
       "\n",
       "[200 rows x 4 columns]"
      ]
     },
     "execution_count": 4,
     "metadata": {},
     "output_type": "execute_result"
    }
   ],
   "source": [
    "#drop CustomerID column\n",
    "df.drop(['CustomerID'], axis=1, inplace=True)\n",
    "df"
   ]
  },
  {
   "cell_type": "code",
   "execution_count": 5,
   "metadata": {
    "colab": {
     "base_uri": "https://localhost:8080/",
     "height": 424
    },
    "executionInfo": {
     "elapsed": 47,
     "status": "ok",
     "timestamp": 1666374322268,
     "user": {
      "displayName": "Marwan Mohamed",
      "userId": "09285816182378030657"
     },
     "user_tz": -120
    },
    "id": "8xct93mWpOM5",
    "outputId": "04602564-91a0-4a30-d885-f6664f966eb6"
   },
   "outputs": [
    {
     "data": {
      "text/html": [
       "<div>\n",
       "<style scoped>\n",
       "    .dataframe tbody tr th:only-of-type {\n",
       "        vertical-align: middle;\n",
       "    }\n",
       "\n",
       "    .dataframe tbody tr th {\n",
       "        vertical-align: top;\n",
       "    }\n",
       "\n",
       "    .dataframe thead th {\n",
       "        text-align: right;\n",
       "    }\n",
       "</style>\n",
       "<table border=\"1\" class=\"dataframe\">\n",
       "  <thead>\n",
       "    <tr style=\"text-align: right;\">\n",
       "      <th></th>\n",
       "      <th>Gender</th>\n",
       "      <th>Age</th>\n",
       "      <th>Annual Income (k$)</th>\n",
       "      <th>Spending Score (1-100)</th>\n",
       "    </tr>\n",
       "  </thead>\n",
       "  <tbody>\n",
       "    <tr>\n",
       "      <th>0</th>\n",
       "      <td>1</td>\n",
       "      <td>19</td>\n",
       "      <td>15</td>\n",
       "      <td>39</td>\n",
       "    </tr>\n",
       "    <tr>\n",
       "      <th>1</th>\n",
       "      <td>1</td>\n",
       "      <td>21</td>\n",
       "      <td>15</td>\n",
       "      <td>81</td>\n",
       "    </tr>\n",
       "    <tr>\n",
       "      <th>2</th>\n",
       "      <td>0</td>\n",
       "      <td>20</td>\n",
       "      <td>16</td>\n",
       "      <td>6</td>\n",
       "    </tr>\n",
       "    <tr>\n",
       "      <th>3</th>\n",
       "      <td>0</td>\n",
       "      <td>23</td>\n",
       "      <td>16</td>\n",
       "      <td>77</td>\n",
       "    </tr>\n",
       "    <tr>\n",
       "      <th>4</th>\n",
       "      <td>0</td>\n",
       "      <td>31</td>\n",
       "      <td>17</td>\n",
       "      <td>40</td>\n",
       "    </tr>\n",
       "    <tr>\n",
       "      <th>...</th>\n",
       "      <td>...</td>\n",
       "      <td>...</td>\n",
       "      <td>...</td>\n",
       "      <td>...</td>\n",
       "    </tr>\n",
       "    <tr>\n",
       "      <th>195</th>\n",
       "      <td>0</td>\n",
       "      <td>35</td>\n",
       "      <td>120</td>\n",
       "      <td>79</td>\n",
       "    </tr>\n",
       "    <tr>\n",
       "      <th>196</th>\n",
       "      <td>0</td>\n",
       "      <td>45</td>\n",
       "      <td>126</td>\n",
       "      <td>28</td>\n",
       "    </tr>\n",
       "    <tr>\n",
       "      <th>197</th>\n",
       "      <td>1</td>\n",
       "      <td>32</td>\n",
       "      <td>126</td>\n",
       "      <td>74</td>\n",
       "    </tr>\n",
       "    <tr>\n",
       "      <th>198</th>\n",
       "      <td>1</td>\n",
       "      <td>32</td>\n",
       "      <td>137</td>\n",
       "      <td>18</td>\n",
       "    </tr>\n",
       "    <tr>\n",
       "      <th>199</th>\n",
       "      <td>1</td>\n",
       "      <td>30</td>\n",
       "      <td>137</td>\n",
       "      <td>83</td>\n",
       "    </tr>\n",
       "  </tbody>\n",
       "</table>\n",
       "<p>200 rows × 4 columns</p>\n",
       "</div>"
      ],
      "text/plain": [
       "     Gender  Age  Annual Income (k$)  Spending Score (1-100)\n",
       "0         1   19                  15                      39\n",
       "1         1   21                  15                      81\n",
       "2         0   20                  16                       6\n",
       "3         0   23                  16                      77\n",
       "4         0   31                  17                      40\n",
       "..      ...  ...                 ...                     ...\n",
       "195       0   35                 120                      79\n",
       "196       0   45                 126                      28\n",
       "197       1   32                 126                      74\n",
       "198       1   32                 137                      18\n",
       "199       1   30                 137                      83\n",
       "\n",
       "[200 rows x 4 columns]"
      ]
     },
     "execution_count": 5,
     "metadata": {},
     "output_type": "execute_result"
    }
   ],
   "source": [
    "#encode gender column (female : 0, male : 1)\n",
    "gender_mapping = {\"Female\": 0, \"Male\": 1}\n",
    "df['Gender'] = df['Gender'].map(gender_mapping)\n",
    "df"
   ]
  },
  {
   "cell_type": "markdown",
   "metadata": {},
   "source": [
    "## Analysis and Visualize the dataset"
   ]
  },
  {
   "cell_type": "markdown",
   "metadata": {},
   "source": [
    "### Analysis the dataset"
   ]
  },
  {
   "cell_type": "code",
   "execution_count": 6,
   "metadata": {
    "colab": {
     "base_uri": "https://localhost:8080/"
    },
    "executionInfo": {
     "elapsed": 48,
     "status": "ok",
     "timestamp": 1666374322270,
     "user": {
      "displayName": "Marwan Mohamed",
      "userId": "09285816182378030657"
     },
     "user_tz": -120
    },
    "id": "zHsZ_P1_pOM6",
    "outputId": "dad1ffd3-3d70-4f0c-b61b-ff55d2ae0823"
   },
   "outputs": [
    {
     "name": "stdout",
     "output_type": "stream",
     "text": [
      "<class 'pandas.core.frame.DataFrame'>\n",
      "RangeIndex: 200 entries, 0 to 199\n",
      "Data columns (total 4 columns):\n",
      " #   Column                  Non-Null Count  Dtype\n",
      "---  ------                  --------------  -----\n",
      " 0   Gender                  200 non-null    int64\n",
      " 1   Age                     200 non-null    int64\n",
      " 2   Annual Income (k$)      200 non-null    int64\n",
      " 3   Spending Score (1-100)  200 non-null    int64\n",
      "dtypes: int64(4)\n",
      "memory usage: 6.4 KB\n"
     ]
    }
   ],
   "source": [
    "df.info()"
   ]
  },
  {
   "cell_type": "code",
   "execution_count": 7,
   "metadata": {
    "colab": {
     "base_uri": "https://localhost:8080/",
     "height": 300
    },
    "executionInfo": {
     "elapsed": 47,
     "status": "ok",
     "timestamp": 1666374322272,
     "user": {
      "displayName": "Marwan Mohamed",
      "userId": "09285816182378030657"
     },
     "user_tz": -120
    },
    "id": "kJ4SRetzpOM7",
    "outputId": "a77c778b-ac23-4876-af4d-db0f259133f9"
   },
   "outputs": [
    {
     "data": {
      "text/html": [
       "<div>\n",
       "<style scoped>\n",
       "    .dataframe tbody tr th:only-of-type {\n",
       "        vertical-align: middle;\n",
       "    }\n",
       "\n",
       "    .dataframe tbody tr th {\n",
       "        vertical-align: top;\n",
       "    }\n",
       "\n",
       "    .dataframe thead th {\n",
       "        text-align: right;\n",
       "    }\n",
       "</style>\n",
       "<table border=\"1\" class=\"dataframe\">\n",
       "  <thead>\n",
       "    <tr style=\"text-align: right;\">\n",
       "      <th></th>\n",
       "      <th>Gender</th>\n",
       "      <th>Age</th>\n",
       "      <th>Annual Income (k$)</th>\n",
       "      <th>Spending Score (1-100)</th>\n",
       "    </tr>\n",
       "  </thead>\n",
       "  <tbody>\n",
       "    <tr>\n",
       "      <th>count</th>\n",
       "      <td>200.000000</td>\n",
       "      <td>200.000000</td>\n",
       "      <td>200.000000</td>\n",
       "      <td>200.000000</td>\n",
       "    </tr>\n",
       "    <tr>\n",
       "      <th>mean</th>\n",
       "      <td>0.440000</td>\n",
       "      <td>38.850000</td>\n",
       "      <td>60.560000</td>\n",
       "      <td>50.200000</td>\n",
       "    </tr>\n",
       "    <tr>\n",
       "      <th>std</th>\n",
       "      <td>0.497633</td>\n",
       "      <td>13.969007</td>\n",
       "      <td>26.264721</td>\n",
       "      <td>25.823522</td>\n",
       "    </tr>\n",
       "    <tr>\n",
       "      <th>min</th>\n",
       "      <td>0.000000</td>\n",
       "      <td>18.000000</td>\n",
       "      <td>15.000000</td>\n",
       "      <td>1.000000</td>\n",
       "    </tr>\n",
       "    <tr>\n",
       "      <th>25%</th>\n",
       "      <td>0.000000</td>\n",
       "      <td>28.750000</td>\n",
       "      <td>41.500000</td>\n",
       "      <td>34.750000</td>\n",
       "    </tr>\n",
       "    <tr>\n",
       "      <th>50%</th>\n",
       "      <td>0.000000</td>\n",
       "      <td>36.000000</td>\n",
       "      <td>61.500000</td>\n",
       "      <td>50.000000</td>\n",
       "    </tr>\n",
       "    <tr>\n",
       "      <th>75%</th>\n",
       "      <td>1.000000</td>\n",
       "      <td>49.000000</td>\n",
       "      <td>78.000000</td>\n",
       "      <td>73.000000</td>\n",
       "    </tr>\n",
       "    <tr>\n",
       "      <th>max</th>\n",
       "      <td>1.000000</td>\n",
       "      <td>70.000000</td>\n",
       "      <td>137.000000</td>\n",
       "      <td>99.000000</td>\n",
       "    </tr>\n",
       "  </tbody>\n",
       "</table>\n",
       "</div>"
      ],
      "text/plain": [
       "           Gender         Age  Annual Income (k$)  Spending Score (1-100)\n",
       "count  200.000000  200.000000          200.000000              200.000000\n",
       "mean     0.440000   38.850000           60.560000               50.200000\n",
       "std      0.497633   13.969007           26.264721               25.823522\n",
       "min      0.000000   18.000000           15.000000                1.000000\n",
       "25%      0.000000   28.750000           41.500000               34.750000\n",
       "50%      0.000000   36.000000           61.500000               50.000000\n",
       "75%      1.000000   49.000000           78.000000               73.000000\n",
       "max      1.000000   70.000000          137.000000               99.000000"
      ]
     },
     "execution_count": 7,
     "metadata": {},
     "output_type": "execute_result"
    }
   ],
   "source": [
    "df.describe()"
   ]
  },
  {
   "cell_type": "code",
   "execution_count": 8,
   "metadata": {
    "colab": {
     "base_uri": "https://localhost:8080/"
    },
    "executionInfo": {
     "elapsed": 47,
     "status": "ok",
     "timestamp": 1666374322273,
     "user": {
      "displayName": "Marwan Mohamed",
      "userId": "09285816182378030657"
     },
     "user_tz": -120
    },
    "id": "vPYfGm4spOM7",
    "outputId": "89118e7d-7034-4fc6-ad8f-3a4ad8581138",
    "scrolled": true
   },
   "outputs": [
    {
     "data": {
      "text/plain": [
       "Gender                    0\n",
       "Age                       0\n",
       "Annual Income (k$)        0\n",
       "Spending Score (1-100)    0\n",
       "dtype: int64"
      ]
     },
     "execution_count": 8,
     "metadata": {},
     "output_type": "execute_result"
    }
   ],
   "source": [
    "df.isnull().sum()"
   ]
  },
  {
   "cell_type": "code",
   "execution_count": 9,
   "metadata": {
    "colab": {
     "base_uri": "https://localhost:8080/"
    },
    "executionInfo": {
     "elapsed": 47,
     "status": "ok",
     "timestamp": 1666374322276,
     "user": {
      "displayName": "Marwan Mohamed",
      "userId": "09285816182378030657"
     },
     "user_tz": -120
    },
    "id": "mUDTpLXhpOM8",
    "outputId": "9d54b6c6-9b95-48c2-ca91-89bfe9c142bf"
   },
   "outputs": [
    {
     "data": {
      "text/plain": [
       "0    112\n",
       "1     88\n",
       "Name: Gender, dtype: int64"
      ]
     },
     "execution_count": 9,
     "metadata": {},
     "output_type": "execute_result"
    }
   ],
   "source": [
    "gender_counts = df.Gender.value_counts()\n",
    "gender_counts"
   ]
  },
  {
   "cell_type": "markdown",
   "metadata": {},
   "source": [
    "### Visualize the dataset"
   ]
  },
  {
   "cell_type": "code",
   "execution_count": 10,
   "metadata": {
    "colab": {
     "base_uri": "https://localhost:8080/",
     "height": 397
    },
    "executionInfo": {
     "elapsed": 328,
     "status": "ok",
     "timestamp": 1666374322558,
     "user": {
      "displayName": "Marwan Mohamed",
      "userId": "09285816182378030657"
     },
     "user_tz": -120
    },
    "id": "e9aPbFezpOM8",
    "outputId": "2de95f01-1151-49e9-af9a-178de95b5389"
   },
   "outputs": [
    {
     "data": {
      "image/png": "[encoded data removed]",
      "text/plain": [
       "<Figure size 864x432 with 1 Axes>"
      ]
     },
     "metadata": {},
     "output_type": "display_data"
    }
   ],
   "source": [
    "#draw the Gender column\n",
    "plt.figure(figsize=(12,6))\n",
    "plt.title(\"Gender\")\n",
    "labels=['Female','Male']\n",
    "plt.pie(gender_counts,labels=labels , autopct='%1.1f%%', startangle=90);"
   ]
  },
  {
   "cell_type": "markdown",
   "metadata": {},
   "source": [
    "as we see The number of females is slightly greater than the number of males"
   ]
  },
  {
   "cell_type": "code",
   "execution_count": 11,
   "metadata": {
    "colab": {
     "base_uri": "https://localhost:8080/",
     "height": 397
    },
    "executionInfo": {
     "elapsed": 43,
     "status": "ok",
     "timestamp": 1666374322559,
     "user": {
      "displayName": "Marwan Mohamed",
      "userId": "09285816182378030657"
     },
     "user_tz": -120
    },
    "id": "5u251auPpOM9",
    "outputId": "b57c8145-70d2-4595-9fd8-6b1807ebacd3"
   },
   "outputs": [
    {
     "data": {
      "image/png": "[encoded data removed]",
      "text/plain": [
       "<Figure size 864x432 with 1 Axes>"
      ]
     },
     "metadata": {
      "needs_background": "light"
     },
     "output_type": "display_data"
    }
   ],
   "source": [
    "# draw the The relationplot between age and Spending Score\n",
    "plt.figure(figsize=(12,6))\n",
    "sns.scatterplot(x='Age', y=r'Spending Score (1-100)', hue='Gender', data=df)\n",
    "plt.legend(labels=[\"male\", \"female\"], loc =\"upper right\")\n",
    "plt.xlabel(\"Age\")\n",
    "plt.ylabel(\"Spending Score\")\n",
    "plt.show();"
   ]
  },
  {
   "cell_type": "markdown",
   "metadata": {},
   "source": [
    "We can see from the figure that the older the age, the lower the spending score"
   ]
  },
  {
   "cell_type": "code",
   "execution_count": 12,
   "metadata": {
    "colab": {
     "base_uri": "https://localhost:8080/",
     "height": 397
    },
    "executionInfo": {
     "elapsed": 40,
     "status": "ok",
     "timestamp": 1666374322560,
     "user": {
      "displayName": "Marwan Mohamed",
      "userId": "09285816182378030657"
     },
     "user_tz": -120
    },
    "id": "ZYjhWouVpOM_",
    "outputId": "7a7dbca4-0a45-4f81-dc8f-2c31cfde7945"
   },
   "outputs": [
    {
     "data": {
      "image/png": "[encoded data removed]",
      "text/plain": [
       "<Figure size 864x432 with 1 Axes>"
      ]
     },
     "metadata": {
      "needs_background": "light"
     },
     "output_type": "display_data"
    }
   ],
   "source": [
    "# draw the The relationplot between age and Annual Income\n",
    "plt.figure(figsize=(12,6))\n",
    "sns.scatterplot(x='Age', y=r'Annual Income (k$)', hue='Gender', data=df)\n",
    "plt.legend(labels=[\"male\", \"female\"], loc =\"upper right\")\n",
    "plt.xlabel(\"Age\")\n",
    "plt.ylabel(\"Annual Income\")\n",
    "plt.show();"
   ]
  },
  {
   "cell_type": "markdown",
   "metadata": {},
   "source": [
    "From the figure, we conclude that annual income does not depend on age"
   ]
  },
  {
   "cell_type": "code",
   "execution_count": 13,
   "metadata": {
    "colab": {
     "base_uri": "https://localhost:8080/",
     "height": 397
    },
    "executionInfo": {
     "elapsed": 38,
     "status": "ok",
     "timestamp": 1666374322560,
     "user": {
      "displayName": "Marwan Mohamed",
      "userId": "09285816182378030657"
     },
     "user_tz": -120
    },
    "id": "lbjyMmj4pOM_",
    "outputId": "9b2c8870-737f-4e96-f873-2c259c497f8c"
   },
   "outputs": [
    {
     "data": {
      "image/png": "[encoded data removed]",
      "text/plain": [
       "<Figure size 864x432 with 1 Axes>"
      ]
     },
     "metadata": {
      "needs_background": "light"
     },
     "output_type": "display_data"
    }
   ],
   "source": [
    "# draw the The relationplot between Spending Score and Annual Income\n",
    "plt.figure(figsize=(12,6))\n",
    "sns.scatterplot(x='Spending Score (1-100)', y=r'Annual Income (k$)', hue='Gender', data=df)\n",
    "plt.legend(labels=[\"male\", \"female\"], loc =\"upper right\")\n",
    "plt.xlabel(\"Spending Score\")\n",
    "plt.ylabel(\"Annual Income\")\n",
    "plt.show();"
   ]
  },
  {
   "cell_type": "markdown",
   "metadata": {},
   "source": [
    "From the figure, we conclude that annual income does not depend on Spending Score"
   ]
  },
  {
   "cell_type": "code",
   "execution_count": 14,
   "metadata": {
    "colab": {
     "base_uri": "https://localhost:8080/",
     "height": 397
    },
    "executionInfo": {
     "elapsed": 476,
     "status": "ok",
     "timestamp": 1666374323000,
     "user": {
      "displayName": "Marwan Mohamed",
      "userId": "09285816182378030657"
     },
     "user_tz": -120
    },
    "id": "N84HBloIpONA",
    "outputId": "1f2f7592-8997-4af7-8f1f-f9de6f215659",
    "scrolled": true
   },
   "outputs": [
    {
     "data": {
      "image/png": "[encoded data removed]",
      "text/plain": [
       "<Figure size 1080x720 with 2 Axes>"
      ]
     },
     "metadata": {
      "needs_background": "light"
     },
     "output_type": "display_data"
    }
   ],
   "source": [
    "# Correlation between features\n",
    "plt.subplots(figsize=(15,10))\n",
    "plt.suptitle(\"Correlation between features\", fontsize=22)\n",
    "sns.heatmap(df.corr(), annot=True, annot_kws={\"size\": 40})\n",
    "plt.show(); "
   ]
  },
  {
   "cell_type": "markdown",
   "metadata": {},
   "source": [
    "from the figure, we found that almost all features have weak correlation between them"
   ]
  },
  {
   "cell_type": "markdown",
   "metadata": {
    "id": "-kh09DfepONA"
   },
   "source": [
    "# Fuzzy-c-means"
   ]
  },
  {
   "cell_type": "code",
   "execution_count": 15,
   "metadata": {
    "colab": {
     "base_uri": "https://localhost:8080/",
     "height": 424
    },
    "executionInfo": {
     "elapsed": 27,
     "status": "ok",
     "timestamp": 1666374323001,
     "user": {
      "displayName": "Marwan Mohamed",
      "userId": "09285816182378030657"
     },
     "user_tz": -120
    },
    "id": "51Nqzf81pONB",
    "outputId": "6c753234-1d1d-448d-c60b-c121caa92bbe"
   },
   "outputs": [
    {
     "data": {
      "text/html": [
       "<div>\n",
       "<style scoped>\n",
       "    .dataframe tbody tr th:only-of-type {\n",
       "        vertical-align: middle;\n",
       "    }\n",
       "\n",
       "    .dataframe tbody tr th {\n",
       "        vertical-align: top;\n",
       "    }\n",
       "\n",
       "    .dataframe thead th {\n",
       "        text-align: right;\n",
       "    }\n",
       "</style>\n",
       "<table border=\"1\" class=\"dataframe\">\n",
       "  <thead>\n",
       "    <tr style=\"text-align: right;\">\n",
       "      <th></th>\n",
       "      <th>Gender</th>\n",
       "      <th>Age</th>\n",
       "      <th>Annual Income (k$)</th>\n",
       "      <th>Spending Score (1-100)</th>\n",
       "    </tr>\n",
       "  </thead>\n",
       "  <tbody>\n",
       "    <tr>\n",
       "      <th>0</th>\n",
       "      <td>1</td>\n",
       "      <td>19</td>\n",
       "      <td>15</td>\n",
       "      <td>39</td>\n",
       "    </tr>\n",
       "    <tr>\n",
       "      <th>1</th>\n",
       "      <td>1</td>\n",
       "      <td>21</td>\n",
       "      <td>15</td>\n",
       "      <td>81</td>\n",
       "    </tr>\n",
       "    <tr>\n",
       "      <th>2</th>\n",
       "      <td>0</td>\n",
       "      <td>20</td>\n",
       "      <td>16</td>\n",
       "      <td>6</td>\n",
       "    </tr>\n",
       "    <tr>\n",
       "      <th>3</th>\n",
       "      <td>0</td>\n",
       "      <td>23</td>\n",
       "      <td>16</td>\n",
       "      <td>77</td>\n",
       "    </tr>\n",
       "    <tr>\n",
       "      <th>4</th>\n",
       "      <td>0</td>\n",
       "      <td>31</td>\n",
       "      <td>17</td>\n",
       "      <td>40</td>\n",
       "    </tr>\n",
       "    <tr>\n",
       "      <th>...</th>\n",
       "      <td>...</td>\n",
       "      <td>...</td>\n",
       "      <td>...</td>\n",
       "      <td>...</td>\n",
       "    </tr>\n",
       "    <tr>\n",
       "      <th>195</th>\n",
       "      <td>0</td>\n",
       "      <td>35</td>\n",
       "      <td>120</td>\n",
       "      <td>79</td>\n",
       "    </tr>\n",
       "    <tr>\n",
       "      <th>196</th>\n",
       "      <td>0</td>\n",
       "      <td>45</td>\n",
       "      <td>126</td>\n",
       "      <td>28</td>\n",
       "    </tr>\n",
       "    <tr>\n",
       "      <th>197</th>\n",
       "      <td>1</td>\n",
       "      <td>32</td>\n",
       "      <td>126</td>\n",
       "      <td>74</td>\n",
       "    </tr>\n",
       "    <tr>\n",
       "      <th>198</th>\n",
       "      <td>1</td>\n",
       "      <td>32</td>\n",
       "      <td>137</td>\n",
       "      <td>18</td>\n",
       "    </tr>\n",
       "    <tr>\n",
       "      <th>199</th>\n",
       "      <td>1</td>\n",
       "      <td>30</td>\n",
       "      <td>137</td>\n",
       "      <td>83</td>\n",
       "    </tr>\n",
       "  </tbody>\n",
       "</table>\n",
       "<p>200 rows × 4 columns</p>\n",
       "</div>"
      ],
      "text/plain": [
       "     Gender  Age  Annual Income (k$)  Spending Score (1-100)\n",
       "0         1   19                  15                      39\n",
       "1         1   21                  15                      81\n",
       "2         0   20                  16                       6\n",
       "3         0   23                  16                      77\n",
       "4         0   31                  17                      40\n",
       "..      ...  ...                 ...                     ...\n",
       "195       0   35                 120                      79\n",
       "196       0   45                 126                      28\n",
       "197       1   32                 126                      74\n",
       "198       1   32                 137                      18\n",
       "199       1   30                 137                      83\n",
       "\n",
       "[200 rows x 4 columns]"
      ]
     },
     "execution_count": 15,
     "metadata": {},
     "output_type": "execute_result"
    }
   ],
   "source": [
    "#copy the dataframe\n",
    "fuzzy_df = df.copy()\n",
    "fuzzy_df"
   ]
  },
  {
   "cell_type": "markdown",
   "metadata": {},
   "source": [
    "## fitting the data"
   ]
  },
  {
   "cell_type": "code",
   "execution_count": 16,
   "metadata": {
    "executionInfo": {
     "elapsed": 26,
     "status": "ok",
     "timestamp": 1666374323001,
     "user": {
      "displayName": "Marwan Mohamed",
      "userId": "09285816182378030657"
     },
     "user_tz": -120
    },
    "id": "hMuLrqD4pONB"
   },
   "outputs": [],
   "source": [
    "fcm = FCM(n_clusters=5)\n",
    "fcm.fit(fuzzy_df.values)\n",
    "fcm_centers = fcm.centers"
   ]
  },
  {
   "cell_type": "code",
   "execution_count": 17,
   "metadata": {
    "colab": {
     "base_uri": "https://localhost:8080/"
    },
    "executionInfo": {
     "elapsed": 18,
     "status": "ok",
     "timestamp": 1666374323338,
     "user": {
      "displayName": "Marwan Mohamed",
      "userId": "09285816182378030657"
     },
     "user_tz": -120
    },
    "id": "VlBdsV-opOND",
    "outputId": "a7140501-2e7f-41b9-d970-8e6e8bda37c1"
   },
   "outputs": [
    {
     "name": "stdout",
     "output_type": "stream",
     "text": [
      "centers =\n",
      " [[ 0.40899418 47.85523583 56.11372968 48.58660436]\n",
      " [ 0.34520515 45.24433688 31.19265727 23.08414339]\n",
      " [ 0.41550737 32.53091162 83.02616844 81.1599147 ]\n",
      " [ 0.54396479 41.2952961  85.92199688 18.71418537]\n",
      " [ 0.41909119 25.55371357 28.97831358 74.89450916]],\n",
      " PC = 0.109, PEC = 0.272\n"
     ]
    }
   ],
   "source": [
    "#get the centers and the accuracy\n",
    "pc = fcm.partition_coefficient\n",
    "pec = fcm.partition_entropy_coefficient\n",
    "print(f'centers =\\n {fcm_centers},\\n PC = {pc:.3f}, PEC = {pec:.3f}')\n"
   ]
  },
  {
   "cell_type": "markdown",
   "metadata": {},
   "source": [
    "## predict the data"
   ]
  },
  {
   "cell_type": "code",
   "execution_count": 18,
   "metadata": {
    "executionInfo": {
     "elapsed": 26,
     "status": "ok",
     "timestamp": 1666374323002,
     "user": {
      "displayName": "Marwan Mohamed",
      "userId": "09285816182378030657"
     },
     "user_tz": -120
    },
    "id": "b1wU0xsipONB"
   },
   "outputs": [],
   "source": [
    "fcm_labels = fcm.predict(fuzzy_df.values)"
   ]
  },
  {
   "cell_type": "code",
   "execution_count": 19,
   "metadata": {
    "colab": {
     "base_uri": "https://localhost:8080/",
     "height": 424
    },
    "executionInfo": {
     "elapsed": 26,
     "status": "ok",
     "timestamp": 1666374323002,
     "user": {
      "displayName": "Marwan Mohamed",
      "userId": "09285816182378030657"
     },
     "user_tz": -120
    },
    "id": "2ODBTKYLpONC",
    "outputId": "f27cc1c8-794e-413a-91dc-f44b876d4af2"
   },
   "outputs": [
    {
     "data": {
      "text/html": [
       "<div>\n",
       "<style scoped>\n",
       "    .dataframe tbody tr th:only-of-type {\n",
       "        vertical-align: middle;\n",
       "    }\n",
       "\n",
       "    .dataframe tbody tr th {\n",
       "        vertical-align: top;\n",
       "    }\n",
       "\n",
       "    .dataframe thead th {\n",
       "        text-align: right;\n",
       "    }\n",
       "</style>\n",
       "<table border=\"1\" class=\"dataframe\">\n",
       "  <thead>\n",
       "    <tr style=\"text-align: right;\">\n",
       "      <th></th>\n",
       "      <th>Gender</th>\n",
       "      <th>Age</th>\n",
       "      <th>Annual Income (k$)</th>\n",
       "      <th>Spending Score (1-100)</th>\n",
       "      <th>Fuzzy_cluster</th>\n",
       "    </tr>\n",
       "  </thead>\n",
       "  <tbody>\n",
       "    <tr>\n",
       "      <th>0</th>\n",
       "      <td>1</td>\n",
       "      <td>19</td>\n",
       "      <td>15</td>\n",
       "      <td>39</td>\n",
       "      <td>1</td>\n",
       "    </tr>\n",
       "    <tr>\n",
       "      <th>1</th>\n",
       "      <td>1</td>\n",
       "      <td>21</td>\n",
       "      <td>15</td>\n",
       "      <td>81</td>\n",
       "      <td>4</td>\n",
       "    </tr>\n",
       "    <tr>\n",
       "      <th>2</th>\n",
       "      <td>0</td>\n",
       "      <td>20</td>\n",
       "      <td>16</td>\n",
       "      <td>6</td>\n",
       "      <td>1</td>\n",
       "    </tr>\n",
       "    <tr>\n",
       "      <th>3</th>\n",
       "      <td>0</td>\n",
       "      <td>23</td>\n",
       "      <td>16</td>\n",
       "      <td>77</td>\n",
       "      <td>4</td>\n",
       "    </tr>\n",
       "    <tr>\n",
       "      <th>4</th>\n",
       "      <td>0</td>\n",
       "      <td>31</td>\n",
       "      <td>17</td>\n",
       "      <td>40</td>\n",
       "      <td>1</td>\n",
       "    </tr>\n",
       "    <tr>\n",
       "      <th>...</th>\n",
       "      <td>...</td>\n",
       "      <td>...</td>\n",
       "      <td>...</td>\n",
       "      <td>...</td>\n",
       "      <td>...</td>\n",
       "    </tr>\n",
       "    <tr>\n",
       "      <th>195</th>\n",
       "      <td>0</td>\n",
       "      <td>35</td>\n",
       "      <td>120</td>\n",
       "      <td>79</td>\n",
       "      <td>2</td>\n",
       "    </tr>\n",
       "    <tr>\n",
       "      <th>196</th>\n",
       "      <td>0</td>\n",
       "      <td>45</td>\n",
       "      <td>126</td>\n",
       "      <td>28</td>\n",
       "      <td>3</td>\n",
       "    </tr>\n",
       "    <tr>\n",
       "      <th>197</th>\n",
       "      <td>1</td>\n",
       "      <td>32</td>\n",
       "      <td>126</td>\n",
       "      <td>74</td>\n",
       "      <td>2</td>\n",
       "    </tr>\n",
       "    <tr>\n",
       "      <th>198</th>\n",
       "      <td>1</td>\n",
       "      <td>32</td>\n",
       "      <td>137</td>\n",
       "      <td>18</td>\n",
       "      <td>3</td>\n",
       "    </tr>\n",
       "    <tr>\n",
       "      <th>199</th>\n",
       "      <td>1</td>\n",
       "      <td>30</td>\n",
       "      <td>137</td>\n",
       "      <td>83</td>\n",
       "      <td>2</td>\n",
       "    </tr>\n",
       "  </tbody>\n",
       "</table>\n",
       "<p>200 rows × 5 columns</p>\n",
       "</div>"
      ],
      "text/plain": [
       "     Gender  Age  Annual Income (k$)  Spending Score (1-100)  Fuzzy_cluster\n",
       "0         1   19                  15                      39              1\n",
       "1         1   21                  15                      81              4\n",
       "2         0   20                  16                       6              1\n",
       "3         0   23                  16                      77              4\n",
       "4         0   31                  17                      40              1\n",
       "..      ...  ...                 ...                     ...            ...\n",
       "195       0   35                 120                      79              2\n",
       "196       0   45                 126                      28              3\n",
       "197       1   32                 126                      74              2\n",
       "198       1   32                 137                      18              3\n",
       "199       1   30                 137                      83              2\n",
       "\n",
       "[200 rows x 5 columns]"
      ]
     },
     "execution_count": 19,
     "metadata": {},
     "output_type": "execute_result"
    }
   ],
   "source": [
    "#add predicted clusters to the dataset\n",
    "fuzzy_df['Fuzzy_cluster'] = fcm_labels\n",
    "fuzzy_df"
   ]
  },
  {
   "cell_type": "markdown",
   "metadata": {},
   "source": [
    "## plot the clusters"
   ]
  },
  {
   "cell_type": "code",
   "execution_count": 20,
   "metadata": {
    "colab": {
     "base_uri": "https://localhost:8080/",
     "height": 397
    },
    "executionInfo": {
     "elapsed": 26,
     "status": "ok",
     "timestamp": 1666374323003,
     "user": {
      "displayName": "Marwan Mohamed",
      "userId": "09285816182378030657"
     },
     "user_tz": -120
    },
    "id": "5a69aGAwpONC",
    "outputId": "a7faa55c-8244-4bd8-ffb0-979da763590a"
   },
   "outputs": [
    {
     "data": {
      "image/png": "[encoded data removed]",
      "text/plain": [
       "<Figure size 864x432 with 1 Axes>"
      ]
     },
     "metadata": {
      "needs_background": "light"
     },
     "output_type": "display_data"
    }
   ],
   "source": [
    "#plot clusters in the relationplot between age and Spending Score\n",
    "plt.figure(figsize=(12,6))\n",
    "sns.scatterplot(x='Age', y='Spending Score (1-100)', hue='Fuzzy_cluster', size='Gender', data=fuzzy_df, palette = \"bright\")\n",
    "sns.scatterplot(x=fcm_centers[:,1],y=fcm_centers[:,3], marker=\"+\", s=500, c='black')\n",
    "plt.legend(loc =\"upper right\")\n",
    "plt.xlabel(\"Age\")\n",
    "plt.ylabel(\"Spending Score\")\n",
    "plt.show();"
   ]
  },
  {
   "cell_type": "code",
   "execution_count": 21,
   "metadata": {
    "colab": {
     "base_uri": "https://localhost:8080/",
     "height": 397
    },
    "executionInfo": {
     "elapsed": 19,
     "status": "ok",
     "timestamp": 1666374323337,
     "user": {
      "displayName": "Marwan Mohamed",
      "userId": "09285816182378030657"
     },
     "user_tz": -120
    },
    "id": "Ml-rLn3rpONC",
    "outputId": "59610d2d-6c74-47a3-8e47-68e4c413768f"
   },
   "outputs": [
    {
     "data": {
      "image/png": "[encoded data removed]",
      "text/plain": [
       "<Figure size 864x432 with 1 Axes>"
      ]
     },
     "metadata": {
      "needs_background": "light"
     },
     "output_type": "display_data"
    }
   ],
   "source": [
    "#plot clusters in the relationplot between Annual Income and Spending Score\n",
    "plt.figure(figsize=(12,6))\n",
    "sns.scatterplot(x='Spending Score (1-100)', y=r'Annual Income (k$)', hue='Fuzzy_cluster', size='Gender', data=fuzzy_df, palette = \"bright\")\n",
    "sns.scatterplot(x=fcm_centers[:,3],y=fcm_centers[:,2], marker=\"+\", s=500, c='black')\n",
    "plt.legend(loc =\"upper right\")\n",
    "plt.xlabel(\"Spending Score\")\n",
    "plt.ylabel(\"Annual Income\")\n",
    "plt.show();"
   ]
  },
  {
   "cell_type": "code",
   "execution_count": 22,
   "metadata": {
    "colab": {
     "base_uri": "https://localhost:8080/",
     "height": 397
    },
    "executionInfo": {
     "elapsed": 18,
     "status": "ok",
     "timestamp": 1666374323337,
     "user": {
      "displayName": "Marwan Mohamed",
      "userId": "09285816182378030657"
     },
     "user_tz": -120
    },
    "id": "Ry-iE4oXpOND",
    "outputId": "179808e7-8358-4b95-b628-af6a336c338d"
   },
   "outputs": [
    {
     "data": {
      "image/png": "[encoded data removed]",
      "text/plain": [
       "<Figure size 864x432 with 1 Axes>"
      ]
     },
     "metadata": {
      "needs_background": "light"
     },
     "output_type": "display_data"
    }
   ],
   "source": [
    "#plot clusters in the relationplot between age and Annual Income\n",
    "plt.figure(figsize=(12,6))\n",
    "sns.scatterplot(y='Annual Income (k$)', x='Age', hue='Fuzzy_cluster', size='Gender', data=fuzzy_df, palette = \"bright\")\n",
    "sns.scatterplot(x=fcm_centers[:,1],y=fcm_centers[:,2], marker=\"+\", s=500, c='black')\n",
    "plt.legend(loc =\"upper right\")\n",
    "plt.xlabel(\"Age\")\n",
    "plt.ylabel(\"Annual Income\")\n",
    "plt.show();"
   ]
  },
  {
   "cell_type": "markdown",
   "metadata": {},
   "source": [
    "## get the membership function of the data"
   ]
  },
  {
   "cell_type": "code",
   "execution_count": 23,
   "metadata": {
    "colab": {
     "base_uri": "https://localhost:8080/"
    },
    "executionInfo": {
     "elapsed": 511,
     "status": "ok",
     "timestamp": 1666374323832,
     "user": {
      "displayName": "Marwan Mohamed",
      "userId": "09285816182378030657"
     },
     "user_tz": -120
    },
    "id": "hyp8I3MHpOND",
    "outputId": "c7b02d63-a7d7-4845-c62b-1c26c93ce26b"
   },
   "outputs": [
    {
     "data": {
      "text/plain": [
       "array([[1.74804686e-01, 3.79470347e-01, 6.93869254e-02, 7.69780396e-02,\n",
       "        2.99360001e-01],\n",
       "       [6.03574906e-02, 4.97040799e-02, 4.38970596e-02, 2.24199630e-02,\n",
       "        8.23621407e-01],\n",
       "       [1.50628363e-01, 5.45186406e-01, 6.14115481e-02, 1.14898288e-01,\n",
       "        1.27875395e-01],\n",
       "       [5.06453614e-02, 4.23042987e-02, 3.34021522e-02, 1.78252419e-02,\n",
       "        8.55822946e-01],\n",
       "       [1.73664075e-01, 4.74743485e-01, 5.41365533e-02, 6.17477567e-02,\n",
       "        2.35708130e-01],\n",
       "       [4.63617817e-02, 3.86141866e-02, 3.04123663e-02, 1.62732910e-02,\n",
       "        8.68338374e-01],\n",
       "       [1.14122723e-01, 6.85899795e-01, 3.96243838e-02, 8.13368541e-02,\n",
       "        7.90162439e-02],\n",
       "       [8.74693980e-02, 6.34446001e-02, 8.06170496e-02, 3.40520995e-02,\n",
       "        7.34416853e-01],\n",
       "       [1.49209069e-01, 6.13274780e-01, 4.95175971e-02, 1.05805136e-01,\n",
       "        8.21934178e-02],\n",
       "       [4.95115315e-02, 4.00634439e-02, 2.65245033e-02, 1.49256031e-02,\n",
       "        8.68974918e-01],\n",
       "       [1.52128904e-01, 6.34596843e-01, 4.56550387e-02, 8.66649851e-02,\n",
       "        8.09542290e-02],\n",
       "       [1.20793287e-01, 8.19957343e-02, 1.11522654e-01, 4.49973157e-02,\n",
       "        6.40691009e-01],\n",
       "       [1.04839544e-01, 7.52017560e-01, 2.95394710e-02, 5.72996611e-02,\n",
       "        5.63037642e-02],\n",
       "       [2.99818074e-02, 2.30718961e-02, 1.97841392e-02, 9.99383292e-03,\n",
       "        9.17168324e-01],\n",
       "       [8.55346282e-02, 7.78650837e-01, 2.66235995e-02, 5.23047387e-02,\n",
       "        5.68861964e-02],\n",
       "       [3.44084365e-02, 2.62924229e-02, 2.43912164e-02, 1.19383454e-02,\n",
       "        9.02969579e-01],\n",
       "       [1.42191348e-01, 6.41379811e-01, 3.76134004e-02, 4.97980263e-02,\n",
       "        1.29017414e-01],\n",
       "       [6.22268267e-02, 5.57014637e-02, 3.39826494e-02, 2.08410521e-02,\n",
       "        8.27248008e-01],\n",
       "       [8.18623546e-02, 8.27371451e-01, 1.82903835e-02, 2.93326405e-02,\n",
       "        4.31431701e-02],\n",
       "       [1.16663335e-01, 7.46948230e-02, 1.10988356e-01, 4.20090433e-02,\n",
       "        6.55644443e-01],\n",
       "       [1.42689882e-01, 6.59067430e-01, 3.50677677e-02, 4.76216801e-02,\n",
       "        1.15553241e-01],\n",
       "       [1.30336476e-02, 9.48762979e-03, 7.76736797e-03, 3.97650738e-03,\n",
       "        9.65734847e-01],\n",
       "       [9.59414464e-02, 7.52556760e-01, 2.94677281e-02, 7.02428956e-02,\n",
       "        5.17911702e-02],\n",
       "       [2.50656530e-02, 1.69520361e-02, 1.34838174e-02, 6.84951693e-03,\n",
       "        9.37648977e-01],\n",
       "       [7.03346888e-02, 8.40113149e-01, 1.78007007e-02, 4.02373494e-02,\n",
       "        3.15141122e-02],\n",
       "       [2.61826552e-02, 1.58169564e-02, 1.94791114e-02, 7.88712896e-03,\n",
       "        9.30634148e-01],\n",
       "       [7.17989434e-02, 8.57947031e-01, 1.37671053e-02, 2.17456231e-02,\n",
       "        3.47412968e-02],\n",
       "       [1.62179972e-01, 1.15912376e-01, 5.23238796e-02, 3.47360167e-02,\n",
       "        6.34847757e-01],\n",
       "       [7.31000547e-02, 8.50468333e-01, 1.47285696e-02, 2.38346607e-02,\n",
       "        3.78683816e-02],\n",
       "       [4.68410806e-02, 2.88985385e-02, 4.35287361e-02, 1.60837298e-02,\n",
       "        8.64647915e-01],\n",
       "       [1.36260057e-01, 6.57681795e-01, 4.03290010e-02, 1.03941654e-01,\n",
       "        6.17874929e-02],\n",
       "       [1.23628547e-02, 8.02266297e-03, 8.20762258e-03, 3.81061080e-03,\n",
       "        9.67596249e-01],\n",
       "       [1.17784991e-01, 7.01406712e-01, 3.38272753e-02, 9.51788457e-02,\n",
       "        5.18021762e-02],\n",
       "       [8.20150965e-02, 4.94097197e-02, 9.58899864e-02, 3.11579204e-02,\n",
       "        7.41527277e-01],\n",
       "       [5.11215624e-02, 8.85293616e-01, 1.21546531e-02, 3.07152104e-02,\n",
       "        2.07149576e-02],\n",
       "       [2.95875183e-02, 1.72949971e-02, 2.58883850e-02, 9.62093144e-03,\n",
       "        9.17608168e-01],\n",
       "       [3.37858675e-02, 9.25311379e-01, 7.77537826e-03, 1.90376250e-02,\n",
       "        1.40897503e-02],\n",
       "       [3.21302632e-02, 1.65122320e-02, 1.82140079e-02, 7.81724145e-03,\n",
       "        9.25326255e-01],\n",
       "       [1.00456237e-01, 7.98751608e-01, 1.97331112e-02, 4.12496933e-02,\n",
       "        3.98093506e-02],\n",
       "       [4.56016582e-02, 2.49126160e-02, 3.62496130e-02, 1.39421298e-02,\n",
       "        8.79293983e-01],\n",
       "       [3.27117357e-01, 4.56035232e-01, 5.06325587e-02, 8.44835029e-02,\n",
       "        8.17313502e-02],\n",
       "       [9.50668013e-02, 5.04050469e-02, 1.19252475e-01, 3.32008203e-02,\n",
       "        7.02074857e-01],\n",
       "       [2.92966110e-01, 5.61182319e-01, 3.13762396e-02, 5.19810598e-02,\n",
       "        6.24942721e-02],\n",
       "       [2.39155314e-01, 1.02774373e-01, 7.45042675e-02, 4.26946500e-02,\n",
       "        5.40871395e-01],\n",
       "       [1.11986799e-01, 8.09558187e-01, 1.59710368e-02, 3.42590344e-02,\n",
       "        2.82249425e-02],\n",
       "       [1.27036127e-01, 6.33418139e-02, 6.32564957e-02, 3.09560871e-02,\n",
       "        7.15409476e-01],\n",
       "       [5.74082239e-01, 1.56767668e-01, 6.17443161e-02, 5.00952809e-02,\n",
       "        1.57310497e-01],\n",
       "       [3.40657640e-01, 2.41760785e-01, 7.79073937e-02, 7.62896298e-02,\n",
       "        2.63384552e-01],\n",
       "       [3.43323037e-01, 3.23366174e-01, 6.65671940e-02, 8.06966532e-02,\n",
       "        1.86046942e-01],\n",
       "       [3.59386516e-01, 3.30621302e-01, 6.23123056e-02, 7.65476038e-02,\n",
       "        1.71132273e-01],\n",
       "       [6.51663634e-01, 1.43065139e-01, 4.93307519e-02, 4.46809031e-02,\n",
       "        1.11259572e-01],\n",
       "       [3.36059230e-01, 1.13500059e-01, 8.67941200e-02, 4.99630891e-02,\n",
       "        4.13683502e-01],\n",
       "       [4.05573907e-01, 1.51686296e-01, 8.40734165e-02, 6.16602285e-02,\n",
       "        2.97006152e-01],\n",
       "       [5.56927176e-01, 1.40492685e-01, 8.64083503e-02, 6.15703779e-02,\n",
       "        1.54601411e-01],\n",
       "       [6.49741047e-01, 1.91751595e-01, 3.83180254e-02, 4.72122982e-02,\n",
       "        7.29770343e-02],\n",
       "       [5.58852000e-01, 2.77806919e-01, 3.76321169e-02, 5.43386220e-02,\n",
       "        7.13703415e-02],\n",
       "       [7.19041286e-01, 1.23876352e-01, 4.02719626e-02, 4.03363922e-02,\n",
       "        7.64740072e-02],\n",
       "       [4.96598561e-01, 2.37971039e-01, 7.29650752e-02, 9.12607343e-02,\n",
       "        1.01204591e-01],\n",
       "       [4.05892763e-01, 1.65591123e-01, 9.53952753e-02, 7.76153971e-02,\n",
       "        2.55505441e-01],\n",
       "       [7.45867754e-01, 1.25825110e-01, 3.34665170e-02, 4.09154662e-02,\n",
       "        5.39251521e-02],\n",
       "       [5.13989971e-01, 1.73831544e-01, 9.77216788e-02, 8.74589594e-02,\n",
       "        1.26997847e-01],\n",
       "       [2.80188034e-01, 1.41963290e-01, 1.22201720e-01, 8.02806900e-02,\n",
       "        3.75366266e-01],\n",
       "       [5.69988417e-01, 1.68647216e-01, 7.88235829e-02, 8.00856920e-02,\n",
       "        1.02455092e-01],\n",
       "       [6.76201160e-01, 9.59648687e-02, 6.89485046e-02, 4.70172694e-02,\n",
       "        1.11868197e-01],\n",
       "       [6.45889413e-01, 1.41310716e-01, 6.35046342e-02, 6.59444761e-02,\n",
       "        8.33507599e-02],\n",
       "       [2.56720978e-01, 1.18202700e-01, 1.41834552e-01, 7.59324491e-02,\n",
       "        4.07309321e-01],\n",
       "       [8.06974449e-01, 7.30114664e-02, 3.20233389e-02, 3.05342414e-02,\n",
       "        5.74565042e-02],\n",
       "       [5.60417515e-01, 1.86180249e-01, 7.38160942e-02, 8.79325120e-02,\n",
       "        9.16536307e-02],\n",
       "       [2.63883947e-01, 1.17524058e-01, 1.39795335e-01, 7.46971621e-02,\n",
       "        4.04099498e-01],\n",
       "       [5.39800066e-01, 1.67657638e-01, 7.21268374e-02, 7.42775277e-02,\n",
       "        1.46137931e-01],\n",
       "       [5.39198470e-01, 1.61144862e-01, 9.67443818e-02, 8.96304083e-02,\n",
       "        1.13281878e-01],\n",
       "       [7.87136723e-01, 1.10142782e-01, 2.57477415e-02, 3.85333075e-02,\n",
       "        3.84394463e-02],\n",
       "       [7.31923745e-01, 1.09041847e-01, 4.70743167e-02, 5.29992122e-02,\n",
       "        5.89608784e-02],\n",
       "       [6.93529164e-01, 1.00570534e-01, 6.71567233e-02, 5.49185011e-02,\n",
       "        8.38250774e-02],\n",
       "       [7.90536930e-01, 8.11267021e-02, 3.83664622e-02, 4.87570687e-02,\n",
       "        4.12128368e-02],\n",
       "       [4.38862549e-01, 1.21618826e-01, 1.38369741e-01, 8.99019510e-02,\n",
       "        2.11246933e-01],\n",
       "       [9.28361895e-01, 2.11643182e-02, 1.67233997e-02, 1.35627879e-02,\n",
       "        2.01875996e-02],\n",
       "       [8.55309997e-01, 4.89270370e-02, 2.86209367e-02, 3.04441596e-02,\n",
       "        3.66978701e-02],\n",
       "       [3.99429952e-01, 1.36809595e-01, 1.41978893e-01, 1.02871233e-01,\n",
       "        2.18910328e-01],\n",
       "       [8.87941404e-01, 4.90930393e-02, 1.65448706e-02, 2.70227639e-02,\n",
       "        1.93979223e-02],\n",
       "       [8.40616376e-01, 5.51031339e-02, 3.37031881e-02, 3.43308016e-02,\n",
       "        3.62465002e-02],\n",
       "       [7.32984633e-01, 6.58861509e-02, 6.73499201e-02, 4.46880893e-02,\n",
       "        8.90912070e-02],\n",
       "       [5.66982761e-01, 1.84940481e-01, 6.67371087e-02, 1.11722512e-01,\n",
       "        6.96171383e-02],\n",
       "       [9.30775792e-01, 2.82766349e-02, 1.12677558e-02, 1.61222706e-02,\n",
       "        1.35575470e-02],\n",
       "       [3.37584290e-01, 1.19080616e-01, 1.72460953e-01, 9.28293439e-02,\n",
       "        2.78044798e-01],\n",
       "       [9.72613012e-01, 1.06451398e-02, 4.83653347e-03, 6.19944932e-03,\n",
       "        5.70586558e-03],\n",
       "       [7.81173041e-01, 5.54640858e-02, 6.39074875e-02, 4.27740790e-02,\n",
       "        5.66813068e-02],\n",
       "       [3.73360150e-01, 1.19233396e-01, 1.80137025e-01, 1.05038790e-01,\n",
       "        2.22230640e-01],\n",
       "       [5.35924325e-01, 7.91175569e-02, 1.62292819e-01, 6.88382699e-02,\n",
       "        1.53827030e-01],\n",
       "       [9.66401364e-01, 1.14577591e-02, 6.69381163e-03, 9.06831798e-03,\n",
       "        6.37874769e-03],\n",
       "       [5.91643635e-01, 1.16658434e-01, 1.06935433e-01, 9.78110323e-02,\n",
       "        8.69514659e-02],\n",
       "       [3.42804012e-01, 1.78702037e-01, 1.36685628e-01, 1.86053240e-01,\n",
       "        1.55755082e-01],\n",
       "       [9.65318115e-01, 1.00043029e-02, 8.37075290e-03, 9.24021434e-03,\n",
       "        7.06661484e-03],\n",
       "       [7.17012741e-01, 9.44861378e-02, 4.73872641e-02, 9.58796850e-02,\n",
       "        4.52341717e-02],\n",
       "       [5.66702761e-01, 1.28888822e-01, 8.51203256e-02, 1.35064053e-01,\n",
       "        8.42240389e-02],\n",
       "       [4.20398853e-01, 1.18348633e-01, 1.72418607e-01, 1.20540587e-01,\n",
       "        1.68293320e-01],\n",
       "       [9.58207551e-01, 1.26297101e-02, 9.30707220e-03, 1.17917667e-02,\n",
       "        8.06389977e-03],\n",
       "       [4.84508512e-01, 1.16091198e-01, 1.43023617e-01, 1.18087021e-01,\n",
       "        1.38289652e-01],\n",
       "       [8.57837642e-01, 4.62524566e-02, 2.56898037e-02, 4.80058698e-02,\n",
       "        2.22142276e-02],\n",
       "       [3.69471375e-01, 1.34538932e-01, 1.76345171e-01, 1.48437033e-01,\n",
       "        1.71207488e-01],\n",
       "       [3.91342177e-01, 1.57458083e-01, 1.29507294e-01, 1.97953512e-01,\n",
       "        1.23738933e-01],\n",
       "       [9.23318191e-01, 2.12569318e-02, 1.85724819e-02, 2.26060182e-02,\n",
       "        1.42463774e-02],\n",
       "       [5.63862651e-01, 1.05997005e-01, 1.35531457e-01, 1.00676283e-01,\n",
       "        9.39326039e-02],\n",
       "       [4.26681245e-01, 1.01042972e-01, 2.02052839e-01, 1.11294976e-01,\n",
       "        1.58927968e-01],\n",
       "       [8.31130856e-01, 3.70548875e-02, 5.63263324e-02, 3.75133017e-02,\n",
       "        3.79746221e-02],\n",
       "       [3.71877025e-01, 1.56891496e-01, 1.40975358e-01, 1.94722043e-01,\n",
       "        1.35534078e-01],\n",
       "       [6.18465371e-01, 1.08110978e-01, 9.40023775e-02, 1.10781941e-01,\n",
       "        6.86393317e-02],\n",
       "       [8.34435421e-01, 4.76788494e-02, 3.66687623e-02, 5.37532424e-02,\n",
       "        2.74637245e-02],\n",
       "       [5.57333335e-01, 1.40242362e-01, 8.67211610e-02, 1.47760748e-01,\n",
       "        6.79423938e-02],\n",
       "       [6.15999310e-01, 1.12633369e-01, 8.86806675e-02, 1.16595299e-01,\n",
       "        6.60913547e-02],\n",
       "       [6.32440232e-01, 9.98333146e-02, 9.69160436e-02, 1.01791546e-01,\n",
       "        6.90188637e-02],\n",
       "       [3.34787002e-01, 1.14627593e-01, 2.30334587e-01, 1.34263832e-01,\n",
       "        1.85986986e-01],\n",
       "       [6.57738770e-01, 8.97507237e-02, 6.92961843e-02, 1.29052806e-01,\n",
       "        5.41615164e-02],\n",
       "       [3.50629171e-01, 1.38046980e-01, 1.77486632e-01, 1.83593643e-01,\n",
       "        1.50243574e-01],\n",
       "       [3.36011381e-01, 1.30163503e-01, 1.99410354e-01, 1.77443350e-01,\n",
       "        1.56971412e-01],\n",
       "       [3.42613014e-01, 1.22468581e-01, 2.11652870e-01, 1.63573404e-01,\n",
       "        1.59692131e-01],\n",
       "       [6.14807583e-01, 1.12592427e-01, 7.70777582e-02, 1.39336583e-01,\n",
       "        5.61856481e-02],\n",
       "       [6.99346400e-01, 5.39796906e-02, 1.21476203e-01, 6.22987381e-02,\n",
       "        6.28989686e-02],\n",
       "       [7.26871563e-01, 6.78354635e-02, 5.65341681e-02, 1.11422578e-01,\n",
       "        3.73362271e-02],\n",
       "       [6.98009228e-01, 5.51721979e-02, 1.18212984e-01, 7.12969584e-02,\n",
       "        5.73086312e-02],\n",
       "       [3.94374241e-01, 8.89542766e-02, 2.60731037e-01, 1.22938578e-01,\n",
       "        1.33001867e-01],\n",
       "       [5.61919129e-01, 1.00372206e-01, 8.21249497e-02, 1.97857091e-01,\n",
       "        5.77266242e-02],\n",
       "       [5.42515171e-01, 6.41700739e-02, 2.17631721e-01, 9.37530563e-02,\n",
       "        8.19299779e-02],\n",
       "       [1.13711286e-01, 3.82139695e-02, 6.92159824e-01, 4.21226610e-02,\n",
       "        1.13792260e-01],\n",
       "       [2.48618786e-01, 1.45856023e-01, 9.96038002e-02, 4.27688849e-01,\n",
       "        7.82325416e-02],\n",
       "       [1.09337416e-01, 3.04237942e-02, 7.41071277e-01, 3.73791295e-02,\n",
       "        8.17883836e-02],\n",
       "       [4.12866478e-01, 1.02525354e-01, 7.44481498e-02, 3.61668252e-01,\n",
       "        4.84917663e-02],\n",
       "       [1.11091819e-01, 3.99186739e-02, 6.90344767e-01, 4.48085137e-02,\n",
       "        1.13836226e-01],\n",
       "       [1.84320370e-01, 1.68829385e-01, 5.62071660e-02, 5.44111177e-01,\n",
       "        4.65319022e-02],\n",
       "       [1.46195623e-01, 3.43066361e-02, 6.98427638e-01, 4.36951954e-02,\n",
       "        7.73749074e-02],\n",
       "       [1.29651486e-01, 1.29889690e-01, 4.17248674e-02, 6.63404925e-01,\n",
       "        3.53290325e-02],\n",
       "       [1.54371137e-01, 3.56695405e-02, 6.85463333e-01, 4.53641979e-02,\n",
       "        7.91317922e-02],\n",
       "       [2.80421344e-01, 1.26217122e-01, 1.15280657e-01, 3.99480672e-01,\n",
       "        7.86002061e-02],\n",
       "       [1.49015269e-01, 3.71805629e-02, 6.81106832e-01, 5.10320036e-02,\n",
       "        8.16653327e-02],\n",
       "       [1.49837585e-01, 1.63570025e-01, 7.32391949e-02, 5.48620516e-01,\n",
       "        6.47326791e-02],\n",
       "       [6.04830813e-02, 2.13165195e-02, 8.29723528e-01, 2.59260916e-02,\n",
       "        6.25507794e-02],\n",
       "       [1.09068633e-01, 1.10230933e-01, 3.86201684e-02, 7.09942108e-01,\n",
       "        3.21381570e-02],\n",
       "       [1.11907238e-01, 2.87137483e-02, 7.55846503e-01, 3.96119208e-02,\n",
       "        6.39205894e-02],\n",
       "       [1.51736109e-01, 1.48860196e-01, 7.52274222e-02, 5.60360808e-01,\n",
       "        6.38154646e-02],\n",
       "       [1.23632352e-01, 2.95078634e-02, 7.44431301e-01, 4.22903698e-02,\n",
       "        6.01381141e-02],\n",
       "       [1.45806882e-01, 1.43106704e-01, 5.27918369e-02, 6.15599824e-01,\n",
       "        4.26947532e-02],\n",
       "       [6.47920993e-02, 2.39472148e-02, 8.14825428e-01, 2.92136213e-02,\n",
       "        6.72216365e-02],\n",
       "       [3.06797684e-01, 1.02243916e-01, 1.50179492e-01, 3.63643182e-01,\n",
       "        7.71357262e-02],\n",
       "       [3.57757508e-02, 1.21142730e-02, 9.04796661e-01, 1.56634476e-02,\n",
       "        3.16498678e-02],\n",
       "       [1.16336141e-01, 1.01574102e-01, 5.48113104e-02, 6.84597770e-01,\n",
       "        4.26806773e-02],\n",
       "       [7.49696340e-02, 3.02817155e-02, 7.72505195e-01, 3.72740765e-02,\n",
       "        8.49693786e-02],\n",
       "       [3.26667497e-01, 8.55096678e-02, 8.39507027e-02, 4.58909155e-01,\n",
       "        4.49629776e-02],\n",
       "       [5.74552900e-02, 1.57459977e-02, 8.70397869e-01, 2.37755178e-02,\n",
       "        3.26253257e-02],\n",
       "       [7.63913100e-02, 4.53997955e-02, 2.98417827e-02, 8.28401792e-01,\n",
       "        1.99653195e-02],\n",
       "       [3.96422784e-02, 1.39212441e-02, 8.93237036e-01, 1.82002270e-02,\n",
       "        3.49992148e-02],\n",
       "       [4.15266962e-02, 2.79021008e-02, 1.46569190e-02, 9.05630317e-01,\n",
       "        1.02839665e-02],\n",
       "       [4.76019000e-02, 1.55943699e-02, 8.79698211e-01, 2.06411165e-02,\n",
       "        3.64644023e-02],\n",
       "       [4.91027170e-02, 2.92379541e-02, 1.65195458e-02, 8.93955939e-01,\n",
       "        1.11838438e-02],\n",
       "       [5.44182858e-02, 1.43263091e-02, 8.81490789e-01, 2.15332190e-02,\n",
       "        2.82313971e-02],\n",
       "       [5.79755951e-02, 3.98279587e-02, 1.99496413e-02, 8.68129756e-01,\n",
       "        1.41170494e-02],\n",
       "       [4.07845260e-02, 1.51253222e-02, 8.84247628e-01, 1.99505996e-02,\n",
       "        3.98919237e-02],\n",
       "       [9.91784347e-02, 1.03317543e-01, 4.38585360e-02, 7.18145655e-01,\n",
       "        3.54998313e-02],\n",
       "       [2.36956752e-02, 7.24539611e-03, 9.42223857e-01, 1.06354470e-02,\n",
       "        1.61996248e-02],\n",
       "       [1.03101965e-01, 1.07890849e-01, 4.69038110e-02, 7.03958427e-01,\n",
       "        3.81449474e-02],\n",
       "       [6.07331867e-02, 1.72251328e-02, 8.60170224e-01, 2.69831624e-02,\n",
       "        3.48882942e-02],\n",
       "       [3.11606029e-01, 9.49375416e-02, 8.94978081e-02, 4.55868013e-01,\n",
       "        4.80906076e-02],\n",
       "       [1.50076563e-02, 5.04476109e-03, 9.60793026e-01, 7.14951459e-03,\n",
       "        1.20050423e-02],\n",
       "       [1.30184680e-01, 1.24790072e-01, 7.28792434e-02, 6.14987751e-01,\n",
       "        5.71582534e-02],\n",
       "       [4.46055882e-02, 1.69429090e-02, 8.73868418e-01, 2.27109853e-02,\n",
       "        4.18720998e-02],\n",
       "       [8.01807094e-02, 3.69708740e-02, 3.22806627e-02, 8.32907488e-01,\n",
       "        1.76602655e-02],\n",
       "       [3.00450753e-02, 8.85461262e-03, 9.29905733e-01, 1.57194102e-02,\n",
       "        1.54751690e-02],\n",
       "       [1.35049830e-03, 7.79232426e-04, 6.13807141e-04, 9.96895882e-01,\n",
       "        3.60579927e-04],\n",
       "       [5.23408981e-02, 2.05461274e-02, 8.51971382e-01, 2.90495795e-02,\n",
       "        4.60920128e-02],\n",
       "       [5.49959620e-02, 2.66936083e-02, 2.89838870e-02, 8.74450582e-01,\n",
       "        1.48759602e-02],\n",
       "       [1.54794242e-01, 4.48018427e-02, 6.31989893e-01, 1.06780176e-01,\n",
       "        6.16338456e-02],\n",
       "       [1.50535883e-02, 1.05911782e-02, 7.28293132e-03, 9.62433304e-01,\n",
       "        4.63899823e-03],\n",
       "       [3.33557738e-02, 1.11752353e-02, 9.14836058e-01, 2.03969609e-02,\n",
       "        2.02359724e-02],\n",
       "       [3.68510828e-02, 2.82408636e-02, 1.86993472e-02, 9.03822625e-01,\n",
       "        1.23860816e-02],\n",
       "       [4.31577505e-02, 1.61756197e-02, 8.82732104e-01, 2.38123581e-02,\n",
       "        3.41221680e-02],\n",
       "       [5.69041206e-02, 3.87928062e-02, 2.59235965e-02, 8.62044810e-01,\n",
       "        1.63346671e-02],\n",
       "       [1.89829356e-02, 7.00018781e-03, 9.48555147e-01, 1.11442075e-02,\n",
       "        1.43175218e-02],\n",
       "       [1.00682520e-01, 6.55002686e-02, 4.48119734e-02, 7.61144575e-01,\n",
       "        2.78606629e-02],\n",
       "       [8.52919219e-02, 2.81175201e-02, 7.83096555e-01, 5.82228546e-02,\n",
       "        4.52711485e-02],\n",
       "       [1.06299790e-01, 6.96502086e-02, 5.36691427e-02, 7.38447900e-01,\n",
       "        3.19329584e-02],\n",
       "       [4.91255824e-02, 1.89485399e-02, 8.65083584e-01, 3.07891710e-02,\n",
       "        3.60531223e-02],\n",
       "       [1.10472972e-01, 5.09369633e-02, 8.66624884e-02, 7.17356127e-01,\n",
       "        3.45714493e-02],\n",
       "       [5.57078722e-02, 2.18697620e-02, 8.44711219e-01, 3.90807053e-02,\n",
       "        3.86304419e-02],\n",
       "       [5.42673937e-02, 3.45799757e-02, 3.27470273e-02, 8.60545019e-01,\n",
       "        1.78605844e-02],\n",
       "       [6.33514587e-02, 2.59573404e-02, 8.18255835e-01, 4.55272342e-02,\n",
       "        4.69081313e-02],\n",
       "       [1.65353119e-01, 6.71798040e-02, 1.55435710e-01, 5.61159430e-01,\n",
       "        5.08719368e-02],\n",
       "       [8.51123944e-02, 3.72245329e-02, 7.47236905e-01, 5.96184225e-02,\n",
       "        7.08077457e-02],\n",
       "       [1.12683891e-01, 6.04813433e-02, 7.39061571e-02, 7.18058097e-01,\n",
       "        3.48705117e-02],\n",
       "       [1.20617834e-01, 4.67523728e-02, 6.49896652e-01, 1.18609657e-01,\n",
       "        6.41234842e-02],\n",
       "       [7.30911903e-02, 4.54862653e-02, 5.16745687e-02, 8.03611729e-01,\n",
       "        2.61362467e-02],\n",
       "       [8.74855630e-02, 3.53296302e-02, 7.52821125e-01, 6.80198289e-02,\n",
       "        5.63438527e-02],\n",
       "       [8.98729409e-02, 5.18043521e-02, 7.23269064e-02, 7.52797995e-01,\n",
       "        3.31978054e-02],\n",
       "       [1.23072295e-01, 4.74183891e-02, 6.44646877e-01, 1.21360433e-01,\n",
       "        6.35020060e-02],\n",
       "       [1.17027281e-01, 8.44866245e-02, 9.55547914e-02, 6.51392713e-01,\n",
       "        5.15385900e-02],\n",
       "       [1.24942764e-01, 5.64587239e-02, 6.25387638e-01, 1.07416670e-01,\n",
       "        8.57942036e-02],\n",
       "       [1.38235181e-01, 8.95596195e-02, 1.22134235e-01, 5.91847888e-01,\n",
       "        5.82230770e-02],\n",
       "       [1.44839336e-01, 6.73737647e-02, 5.43605802e-01, 1.54910546e-01,\n",
       "        8.92705510e-02],\n",
       "       [1.60011721e-01, 9.43834880e-02, 1.76178706e-01, 4.98482618e-01,\n",
       "        7.09434665e-02],\n",
       "       [1.57091143e-01, 7.72537528e-02, 4.78368703e-01, 1.91235359e-01,\n",
       "        9.60510420e-02],\n",
       "       [1.61753737e-01, 1.09708488e-01, 1.81129911e-01, 4.63759785e-01,\n",
       "        8.36480796e-02],\n",
       "       [1.62762466e-01, 8.72019144e-02, 4.47982822e-01, 1.90640776e-01,\n",
       "        1.11412022e-01]])"
      ]
     },
     "execution_count": 23,
     "metadata": {},
     "output_type": "execute_result"
    }
   ],
   "source": [
    "MFs = fcm.soft_predict(df.values)\n",
    "MFs"
   ]
  },
  {
   "cell_type": "code",
   "execution_count": 24,
   "metadata": {
    "colab": {
     "base_uri": "https://localhost:8080/",
     "height": 424
    },
    "executionInfo": {
     "elapsed": 312,
     "status": "ok",
     "timestamp": 1666374743071,
     "user": {
      "displayName": "Marwan Mohamed",
      "userId": "09285816182378030657"
     },
     "user_tz": -120
    },
    "id": "QXgoQyDbpOND",
    "outputId": "95852c36-2779-4157-ea2a-277b0df5ecc8"
   },
   "outputs": [
    {
     "data": {
      "text/html": [
       "<div>\n",
       "<style scoped>\n",
       "    .dataframe tbody tr th:only-of-type {\n",
       "        vertical-align: middle;\n",
       "    }\n",
       "\n",
       "    .dataframe tbody tr th {\n",
       "        vertical-align: top;\n",
       "    }\n",
       "\n",
       "    .dataframe thead th {\n",
       "        text-align: right;\n",
       "    }\n",
       "</style>\n",
       "<table border=\"1\" class=\"dataframe\">\n",
       "  <thead>\n",
       "    <tr style=\"text-align: right;\">\n",
       "      <th></th>\n",
       "      <th>Gender</th>\n",
       "      <th>Age</th>\n",
       "      <th>Annual Income (k$)</th>\n",
       "      <th>Spending Score (1-100)</th>\n",
       "      <th>Fuzzy_cluster</th>\n",
       "      <th>MF0</th>\n",
       "      <th>MF1</th>\n",
       "      <th>MF2</th>\n",
       "      <th>MF3</th>\n",
       "      <th>MF4</th>\n",
       "    </tr>\n",
       "  </thead>\n",
       "  <tbody>\n",
       "    <tr>\n",
       "      <th>0</th>\n",
       "      <td>1</td>\n",
       "      <td>19</td>\n",
       "      <td>15</td>\n",
       "      <td>39</td>\n",
       "      <td>1</td>\n",
       "      <td>0.174805</td>\n",
       "      <td>0.379470</td>\n",
       "      <td>0.069387</td>\n",
       "      <td>0.076978</td>\n",
       "      <td>0.299360</td>\n",
       "    </tr>\n",
       "    <tr>\n",
       "      <th>1</th>\n",
       "      <td>1</td>\n",
       "      <td>21</td>\n",
       "      <td>15</td>\n",
       "      <td>81</td>\n",
       "      <td>4</td>\n",
       "      <td>0.060357</td>\n",
       "      <td>0.049704</td>\n",
       "      <td>0.043897</td>\n",
       "      <td>0.022420</td>\n",
       "      <td>0.823621</td>\n",
       "    </tr>\n",
       "    <tr>\n",
       "      <th>2</th>\n",
       "      <td>0</td>\n",
       "      <td>20</td>\n",
       "      <td>16</td>\n",
       "      <td>6</td>\n",
       "      <td>1</td>\n",
       "      <td>0.150628</td>\n",
       "      <td>0.545186</td>\n",
       "      <td>0.061412</td>\n",
       "      <td>0.114898</td>\n",
       "      <td>0.127875</td>\n",
       "    </tr>\n",
       "    <tr>\n",
       "      <th>3</th>\n",
       "      <td>0</td>\n",
       "      <td>23</td>\n",
       "      <td>16</td>\n",
       "      <td>77</td>\n",
       "      <td>4</td>\n",
       "      <td>0.050645</td>\n",
       "      <td>0.042304</td>\n",
       "      <td>0.033402</td>\n",
       "      <td>0.017825</td>\n",
       "      <td>0.855823</td>\n",
       "    </tr>\n",
       "    <tr>\n",
       "      <th>4</th>\n",
       "      <td>0</td>\n",
       "      <td>31</td>\n",
       "      <td>17</td>\n",
       "      <td>40</td>\n",
       "      <td>1</td>\n",
       "      <td>0.173664</td>\n",
       "      <td>0.474743</td>\n",
       "      <td>0.054137</td>\n",
       "      <td>0.061748</td>\n",
       "      <td>0.235708</td>\n",
       "    </tr>\n",
       "    <tr>\n",
       "      <th>...</th>\n",
       "      <td>...</td>\n",
       "      <td>...</td>\n",
       "      <td>...</td>\n",
       "      <td>...</td>\n",
       "      <td>...</td>\n",
       "      <td>...</td>\n",
       "      <td>...</td>\n",
       "      <td>...</td>\n",
       "      <td>...</td>\n",
       "      <td>...</td>\n",
       "    </tr>\n",
       "    <tr>\n",
       "      <th>195</th>\n",
       "      <td>0</td>\n",
       "      <td>35</td>\n",
       "      <td>120</td>\n",
       "      <td>79</td>\n",
       "      <td>2</td>\n",
       "      <td>0.144839</td>\n",
       "      <td>0.067374</td>\n",
       "      <td>0.543606</td>\n",
       "      <td>0.154911</td>\n",
       "      <td>0.089271</td>\n",
       "    </tr>\n",
       "    <tr>\n",
       "      <th>196</th>\n",
       "      <td>0</td>\n",
       "      <td>45</td>\n",
       "      <td>126</td>\n",
       "      <td>28</td>\n",
       "      <td>3</td>\n",
       "      <td>0.160012</td>\n",
       "      <td>0.094383</td>\n",
       "      <td>0.176179</td>\n",
       "      <td>0.498483</td>\n",
       "      <td>0.070943</td>\n",
       "    </tr>\n",
       "    <tr>\n",
       "      <th>197</th>\n",
       "      <td>1</td>\n",
       "      <td>32</td>\n",
       "      <td>126</td>\n",
       "      <td>74</td>\n",
       "      <td>2</td>\n",
       "      <td>0.157091</td>\n",
       "      <td>0.077254</td>\n",
       "      <td>0.478369</td>\n",
       "      <td>0.191235</td>\n",
       "      <td>0.096051</td>\n",
       "    </tr>\n",
       "    <tr>\n",
       "      <th>198</th>\n",
       "      <td>1</td>\n",
       "      <td>32</td>\n",
       "      <td>137</td>\n",
       "      <td>18</td>\n",
       "      <td>3</td>\n",
       "      <td>0.161754</td>\n",
       "      <td>0.109708</td>\n",
       "      <td>0.181130</td>\n",
       "      <td>0.463760</td>\n",
       "      <td>0.083648</td>\n",
       "    </tr>\n",
       "    <tr>\n",
       "      <th>199</th>\n",
       "      <td>1</td>\n",
       "      <td>30</td>\n",
       "      <td>137</td>\n",
       "      <td>83</td>\n",
       "      <td>2</td>\n",
       "      <td>0.162762</td>\n",
       "      <td>0.087202</td>\n",
       "      <td>0.447983</td>\n",
       "      <td>0.190641</td>\n",
       "      <td>0.111412</td>\n",
       "    </tr>\n",
       "  </tbody>\n",
       "</table>\n",
       "<p>200 rows × 10 columns</p>\n",
       "</div>"
      ],
      "text/plain": [
       "     Gender  Age  Annual Income (k$)  Spending Score (1-100)  Fuzzy_cluster  \\\n",
       "0         1   19                  15                      39              1   \n",
       "1         1   21                  15                      81              4   \n",
       "2         0   20                  16                       6              1   \n",
       "3         0   23                  16                      77              4   \n",
       "4         0   31                  17                      40              1   \n",
       "..      ...  ...                 ...                     ...            ...   \n",
       "195       0   35                 120                      79              2   \n",
       "196       0   45                 126                      28              3   \n",
       "197       1   32                 126                      74              2   \n",
       "198       1   32                 137                      18              3   \n",
       "199       1   30                 137                      83              2   \n",
       "\n",
       "          MF0       MF1       MF2       MF3       MF4  \n",
       "0    0.174805  0.379470  0.069387  0.076978  0.299360  \n",
       "1    0.060357  0.049704  0.043897  0.022420  0.823621  \n",
       "2    0.150628  0.545186  0.061412  0.114898  0.127875  \n",
       "3    0.050645  0.042304  0.033402  0.017825  0.855823  \n",
       "4    0.173664  0.474743  0.054137  0.061748  0.235708  \n",
       "..        ...       ...       ...       ...       ...  \n",
       "195  0.144839  0.067374  0.543606  0.154911  0.089271  \n",
       "196  0.160012  0.094383  0.176179  0.498483  0.070943  \n",
       "197  0.157091  0.077254  0.478369  0.191235  0.096051  \n",
       "198  0.161754  0.109708  0.181130  0.463760  0.083648  \n",
       "199  0.162762  0.087202  0.447983  0.190641  0.111412  \n",
       "\n",
       "[200 rows x 10 columns]"
      ]
     },
     "execution_count": 24,
     "metadata": {},
     "output_type": "execute_result"
    }
   ],
   "source": [
    "#add it to the dataset\n",
    "fuzzy_df['MF0'] = MFs[:,0]\n",
    "fuzzy_df['MF1'] = MFs[:,1]\n",
    "fuzzy_df['MF2'] = MFs[:,2]\n",
    "fuzzy_df['MF3'] = MFs[:,3]\n",
    "fuzzy_df['MF4'] = MFs[:,4]\n",
    "fuzzy_df"
   ]
  },
  {
   "cell_type": "markdown",
   "metadata": {},
   "source": [
    "## Apply the Alpha cut to the dataste"
   ]
  },
  {
   "cell_type": "code",
   "execution_count": 25,
   "metadata": {
    "executionInfo": {
     "elapsed": 285,
     "status": "ok",
     "timestamp": 1666374755615,
     "user": {
      "displayName": "Marwan Mohamed",
      "userId": "09285816182378030657"
     },
     "user_tz": -120
    },
    "id": "jiyPqYTxpONE"
   },
   "outputs": [],
   "source": [
    "#if MFi > alpha , then AMFi = 1, else AMFi = 0\n",
    "alpha = 0.285\n",
    "fuzzy_df[\"AMF0\"] = np.where(fuzzy_df.MF0 > alpha, 1, 0)\n",
    "fuzzy_df[\"AMF1\"] = np.where(fuzzy_df.MF1 > alpha, 1, 0)\n",
    "fuzzy_df[\"AMF2\"] = np.where(fuzzy_df.MF2 > alpha, 1, 0)\n",
    "fuzzy_df[\"AMF3\"] = np.where(fuzzy_df.MF3 > alpha, 1, 0)\n",
    "fuzzy_df[\"AMF4\"] = np.where(fuzzy_df.MF4 > alpha, 1, 0)"
   ]
  },
  {
   "cell_type": "code",
   "execution_count": 26,
   "metadata": {
    "colab": {
     "base_uri": "https://localhost:8080/",
     "height": 424
    },
    "executionInfo": {
     "elapsed": 280,
     "status": "ok",
     "timestamp": 1666374758556,
     "user": {
      "displayName": "Marwan Mohamed",
      "userId": "09285816182378030657"
     },
     "user_tz": -120
    },
    "id": "b59f75nZp8kK",
    "outputId": "0b493c0b-1c63-465a-85fd-483e7e59d817"
   },
   "outputs": [
    {
     "data": {
      "text/html": [
       "<div>\n",
       "<style scoped>\n",
       "    .dataframe tbody tr th:only-of-type {\n",
       "        vertical-align: middle;\n",
       "    }\n",
       "\n",
       "    .dataframe tbody tr th {\n",
       "        vertical-align: top;\n",
       "    }\n",
       "\n",
       "    .dataframe thead th {\n",
       "        text-align: right;\n",
       "    }\n",
       "</style>\n",
       "<table border=\"1\" class=\"dataframe\">\n",
       "  <thead>\n",
       "    <tr style=\"text-align: right;\">\n",
       "      <th></th>\n",
       "      <th>Gender</th>\n",
       "      <th>Age</th>\n",
       "      <th>Annual Income (k$)</th>\n",
       "      <th>Spending Score (1-100)</th>\n",
       "      <th>Fuzzy_cluster</th>\n",
       "      <th>MF0</th>\n",
       "      <th>MF1</th>\n",
       "      <th>MF2</th>\n",
       "      <th>MF3</th>\n",
       "      <th>MF4</th>\n",
       "      <th>AMF0</th>\n",
       "      <th>AMF1</th>\n",
       "      <th>AMF2</th>\n",
       "      <th>AMF3</th>\n",
       "      <th>AMF4</th>\n",
       "    </tr>\n",
       "  </thead>\n",
       "  <tbody>\n",
       "    <tr>\n",
       "      <th>0</th>\n",
       "      <td>1</td>\n",
       "      <td>19</td>\n",
       "      <td>15</td>\n",
       "      <td>39</td>\n",
       "      <td>1</td>\n",
       "      <td>0.174805</td>\n",
       "      <td>0.379470</td>\n",
       "      <td>0.069387</td>\n",
       "      <td>0.076978</td>\n",
       "      <td>0.299360</td>\n",
       "      <td>0</td>\n",
       "      <td>1</td>\n",
       "      <td>0</td>\n",
       "      <td>0</td>\n",
       "      <td>1</td>\n",
       "    </tr>\n",
       "    <tr>\n",
       "      <th>1</th>\n",
       "      <td>1</td>\n",
       "      <td>21</td>\n",
       "      <td>15</td>\n",
       "      <td>81</td>\n",
       "      <td>4</td>\n",
       "      <td>0.060357</td>\n",
       "      <td>0.049704</td>\n",
       "      <td>0.043897</td>\n",
       "      <td>0.022420</td>\n",
       "      <td>0.823621</td>\n",
       "      <td>0</td>\n",
       "      <td>0</td>\n",
       "      <td>0</td>\n",
       "      <td>0</td>\n",
       "      <td>1</td>\n",
       "    </tr>\n",
       "    <tr>\n",
       "      <th>2</th>\n",
       "      <td>0</td>\n",
       "      <td>20</td>\n",
       "      <td>16</td>\n",
       "      <td>6</td>\n",
       "      <td>1</td>\n",
       "      <td>0.150628</td>\n",
       "      <td>0.545186</td>\n",
       "      <td>0.061412</td>\n",
       "      <td>0.114898</td>\n",
       "      <td>0.127875</td>\n",
       "      <td>0</td>\n",
       "      <td>1</td>\n",
       "      <td>0</td>\n",
       "      <td>0</td>\n",
       "      <td>0</td>\n",
       "    </tr>\n",
       "    <tr>\n",
       "      <th>3</th>\n",
       "      <td>0</td>\n",
       "      <td>23</td>\n",
       "      <td>16</td>\n",
       "      <td>77</td>\n",
       "      <td>4</td>\n",
       "      <td>0.050645</td>\n",
       "      <td>0.042304</td>\n",
       "      <td>0.033402</td>\n",
       "      <td>0.017825</td>\n",
       "      <td>0.855823</td>\n",
       "      <td>0</td>\n",
       "      <td>0</td>\n",
       "      <td>0</td>\n",
       "      <td>0</td>\n",
       "      <td>1</td>\n",
       "    </tr>\n",
       "    <tr>\n",
       "      <th>4</th>\n",
       "      <td>0</td>\n",
       "      <td>31</td>\n",
       "      <td>17</td>\n",
       "      <td>40</td>\n",
       "      <td>1</td>\n",
       "      <td>0.173664</td>\n",
       "      <td>0.474743</td>\n",
       "      <td>0.054137</td>\n",
       "      <td>0.061748</td>\n",
       "      <td>0.235708</td>\n",
       "      <td>0</td>\n",
       "      <td>1</td>\n",
       "      <td>0</td>\n",
       "      <td>0</td>\n",
       "      <td>0</td>\n",
       "    </tr>\n",
       "    <tr>\n",
       "      <th>...</th>\n",
       "      <td>...</td>\n",
       "      <td>...</td>\n",
       "      <td>...</td>\n",
       "      <td>...</td>\n",
       "      <td>...</td>\n",
       "      <td>...</td>\n",
       "      <td>...</td>\n",
       "      <td>...</td>\n",
       "      <td>...</td>\n",
       "      <td>...</td>\n",
       "      <td>...</td>\n",
       "      <td>...</td>\n",
       "      <td>...</td>\n",
       "      <td>...</td>\n",
       "      <td>...</td>\n",
       "    </tr>\n",
       "    <tr>\n",
       "      <th>195</th>\n",
       "      <td>0</td>\n",
       "      <td>35</td>\n",
       "      <td>120</td>\n",
       "      <td>79</td>\n",
       "      <td>2</td>\n",
       "      <td>0.144839</td>\n",
       "      <td>0.067374</td>\n",
       "      <td>0.543606</td>\n",
       "      <td>0.154911</td>\n",
       "      <td>0.089271</td>\n",
       "      <td>0</td>\n",
       "      <td>0</td>\n",
       "      <td>1</td>\n",
       "      <td>0</td>\n",
       "      <td>0</td>\n",
       "    </tr>\n",
       "    <tr>\n",
       "      <th>196</th>\n",
       "      <td>0</td>\n",
       "      <td>45</td>\n",
       "      <td>126</td>\n",
       "      <td>28</td>\n",
       "      <td>3</td>\n",
       "      <td>0.160012</td>\n",
       "      <td>0.094383</td>\n",
       "      <td>0.176179</td>\n",
       "      <td>0.498483</td>\n",
       "      <td>0.070943</td>\n",
       "      <td>0</td>\n",
       "      <td>0</td>\n",
       "      <td>0</td>\n",
       "      <td>1</td>\n",
       "      <td>0</td>\n",
       "    </tr>\n",
       "    <tr>\n",
       "      <th>197</th>\n",
       "      <td>1</td>\n",
       "      <td>32</td>\n",
       "      <td>126</td>\n",
       "      <td>74</td>\n",
       "      <td>2</td>\n",
       "      <td>0.157091</td>\n",
       "      <td>0.077254</td>\n",
       "      <td>0.478369</td>\n",
       "      <td>0.191235</td>\n",
       "      <td>0.096051</td>\n",
       "      <td>0</td>\n",
       "      <td>0</td>\n",
       "      <td>1</td>\n",
       "      <td>0</td>\n",
       "      <td>0</td>\n",
       "    </tr>\n",
       "    <tr>\n",
       "      <th>198</th>\n",
       "      <td>1</td>\n",
       "      <td>32</td>\n",
       "      <td>137</td>\n",
       "      <td>18</td>\n",
       "      <td>3</td>\n",
       "      <td>0.161754</td>\n",
       "      <td>0.109708</td>\n",
       "      <td>0.181130</td>\n",
       "      <td>0.463760</td>\n",
       "      <td>0.083648</td>\n",
       "      <td>0</td>\n",
       "      <td>0</td>\n",
       "      <td>0</td>\n",
       "      <td>1</td>\n",
       "      <td>0</td>\n",
       "    </tr>\n",
       "    <tr>\n",
       "      <th>199</th>\n",
       "      <td>1</td>\n",
       "      <td>30</td>\n",
       "      <td>137</td>\n",
       "      <td>83</td>\n",
       "      <td>2</td>\n",
       "      <td>0.162762</td>\n",
       "      <td>0.087202</td>\n",
       "      <td>0.447983</td>\n",
       "      <td>0.190641</td>\n",
       "      <td>0.111412</td>\n",
       "      <td>0</td>\n",
       "      <td>0</td>\n",
       "      <td>1</td>\n",
       "      <td>0</td>\n",
       "      <td>0</td>\n",
       "    </tr>\n",
       "  </tbody>\n",
       "</table>\n",
       "<p>200 rows × 15 columns</p>\n",
       "</div>"
      ],
      "text/plain": [
       "     Gender  Age  Annual Income (k$)  Spending Score (1-100)  Fuzzy_cluster  \\\n",
       "0         1   19                  15                      39              1   \n",
       "1         1   21                  15                      81              4   \n",
       "2         0   20                  16                       6              1   \n",
       "3         0   23                  16                      77              4   \n",
       "4         0   31                  17                      40              1   \n",
       "..      ...  ...                 ...                     ...            ...   \n",
       "195       0   35                 120                      79              2   \n",
       "196       0   45                 126                      28              3   \n",
       "197       1   32                 126                      74              2   \n",
       "198       1   32                 137                      18              3   \n",
       "199       1   30                 137                      83              2   \n",
       "\n",
       "          MF0       MF1       MF2       MF3       MF4  AMF0  AMF1  AMF2  AMF3  \\\n",
       "0    0.174805  0.379470  0.069387  0.076978  0.299360     0     1     0     0   \n",
       "1    0.060357  0.049704  0.043897  0.022420  0.823621     0     0     0     0   \n",
       "2    0.150628  0.545186  0.061412  0.114898  0.127875     0     1     0     0   \n",
       "3    0.050645  0.042304  0.033402  0.017825  0.855823     0     0     0     0   \n",
       "4    0.173664  0.474743  0.054137  0.061748  0.235708     0     1     0     0   \n",
       "..        ...       ...       ...       ...       ...   ...   ...   ...   ...   \n",
       "195  0.144839  0.067374  0.543606  0.154911  0.089271     0     0     1     0   \n",
       "196  0.160012  0.094383  0.176179  0.498483  0.070943     0     0     0     1   \n",
       "197  0.157091  0.077254  0.478369  0.191235  0.096051     0     0     1     0   \n",
       "198  0.161754  0.109708  0.181130  0.463760  0.083648     0     0     0     1   \n",
       "199  0.162762  0.087202  0.447983  0.190641  0.111412     0     0     1     0   \n",
       "\n",
       "     AMF4  \n",
       "0       1  \n",
       "1       1  \n",
       "2       0  \n",
       "3       1  \n",
       "4       0  \n",
       "..    ...  \n",
       "195     0  \n",
       "196     0  \n",
       "197     0  \n",
       "198     0  \n",
       "199     0  \n",
       "\n",
       "[200 rows x 15 columns]"
      ]
     },
     "execution_count": 26,
     "metadata": {},
     "output_type": "execute_result"
    }
   ],
   "source": [
    "fuzzy_df"
   ]
  },
  {
   "cell_type": "code",
   "execution_count": 27,
   "metadata": {
    "colab": {
     "base_uri": "https://localhost:8080/"
    },
    "executionInfo": {
     "elapsed": 263,
     "status": "ok",
     "timestamp": 1666376091400,
     "user": {
      "displayName": "Marwan Mohamed",
      "userId": "09285816182378030657"
     },
     "user_tz": -120
    },
    "id": "7R4fX86xrXNh",
    "outputId": "e90126cd-b894-40df-c836-13e1e6f704ea"
   },
   "outputs": [
    {
     "data": {
      "text/plain": [
       "array([1, 4, 1, 4, 1, 4, 1, 4, 1, 4, 1, 4, 1, 4, 1, 4, 1, 4, 1, 4, 1, 4,\n",
       "       1, 4, 1, 4, 1, 4, 1, 4, 1, 4, 1, 4, 1, 4, 1, 4, 1, 4, 0, 4, 0, 4,\n",
       "       1, 4, 0, 0, 0, 0, 0, 0, 0, 0, 0, 0, 0, 0, 0, 0, 0, 4, 0, 0, 0, 4,\n",
       "       0, 0, 4, 0, 0, 0, 0, 0, 0, 0, 0, 0, 0, 0, 0, 0, 0, 0, 0, 0, 0, 0,\n",
       "       0, 0, 0, 0, 0, 0, 0, 0, 0, 0, 0, 0, 0, 0, 0, 0, 0, 0, 0, 0, 0, 0,\n",
       "       0, 0, 0, 0, 0, 0, 0, 0, 0, 0, 0, 0, 0, 2, 3, 2, 0, 2, 3, 2, 3, 2,\n",
       "       3, 2, 3, 2, 3, 2, 3, 2, 3, 2, 0, 2, 3, 2, 0, 2, 3, 2, 3, 2, 3, 2,\n",
       "       3, 2, 3, 2, 3, 2, 0, 2, 3, 2, 3, 2, 3, 2, 3, 2, 3, 2, 3, 2, 3, 2,\n",
       "       3, 2, 3, 2, 3, 2, 3, 2, 3, 2, 3, 2, 3, 2, 3, 2, 3, 2, 3, 2, 3, 2,\n",
       "       3, 2], dtype=int64)"
      ]
     },
     "execution_count": 27,
     "metadata": {},
     "output_type": "execute_result"
    }
   ],
   "source": [
    "AC_clusters = fuzzy_df[[\"AMF0\", \"AMF1\", \"AMF2\", \"AMF3\", \"AMF4\"]]\n",
    "AC_clusters = AC_clusters.to_numpy()\n",
    "AC_clusters = np.argmax(AC_clusters,axis=1)\n",
    "AC_clusters"
   ]
  },
  {
   "cell_type": "code",
   "execution_count": 28,
   "metadata": {
    "colab": {
     "base_uri": "https://localhost:8080/",
     "height": 424
    },
    "executionInfo": {
     "elapsed": 11,
     "status": "ok",
     "timestamp": 1666376191500,
     "user": {
      "displayName": "Marwan Mohamed",
      "userId": "09285816182378030657"
     },
     "user_tz": -120
    },
    "id": "JwAtcV7vwdsl",
    "outputId": "48d3e94c-7128-48d8-c299-e6321426d426"
   },
   "outputs": [
    {
     "data": {
      "text/html": [
       "<div>\n",
       "<style scoped>\n",
       "    .dataframe tbody tr th:only-of-type {\n",
       "        vertical-align: middle;\n",
       "    }\n",
       "\n",
       "    .dataframe tbody tr th {\n",
       "        vertical-align: top;\n",
       "    }\n",
       "\n",
       "    .dataframe thead th {\n",
       "        text-align: right;\n",
       "    }\n",
       "</style>\n",
       "<table border=\"1\" class=\"dataframe\">\n",
       "  <thead>\n",
       "    <tr style=\"text-align: right;\">\n",
       "      <th></th>\n",
       "      <th>Gender</th>\n",
       "      <th>Age</th>\n",
       "      <th>Annual Income (k$)</th>\n",
       "      <th>Spending Score (1-100)</th>\n",
       "      <th>Fuzzy_cluster</th>\n",
       "      <th>MF0</th>\n",
       "      <th>MF1</th>\n",
       "      <th>MF2</th>\n",
       "      <th>MF3</th>\n",
       "      <th>MF4</th>\n",
       "      <th>AMF0</th>\n",
       "      <th>AMF1</th>\n",
       "      <th>AMF2</th>\n",
       "      <th>AMF3</th>\n",
       "      <th>AMF4</th>\n",
       "      <th>AC_clusters</th>\n",
       "    </tr>\n",
       "  </thead>\n",
       "  <tbody>\n",
       "    <tr>\n",
       "      <th>0</th>\n",
       "      <td>1</td>\n",
       "      <td>19</td>\n",
       "      <td>15</td>\n",
       "      <td>39</td>\n",
       "      <td>1</td>\n",
       "      <td>0.174805</td>\n",
       "      <td>0.379470</td>\n",
       "      <td>0.069387</td>\n",
       "      <td>0.076978</td>\n",
       "      <td>0.299360</td>\n",
       "      <td>0</td>\n",
       "      <td>1</td>\n",
       "      <td>0</td>\n",
       "      <td>0</td>\n",
       "      <td>1</td>\n",
       "      <td>1</td>\n",
       "    </tr>\n",
       "    <tr>\n",
       "      <th>1</th>\n",
       "      <td>1</td>\n",
       "      <td>21</td>\n",
       "      <td>15</td>\n",
       "      <td>81</td>\n",
       "      <td>4</td>\n",
       "      <td>0.060357</td>\n",
       "      <td>0.049704</td>\n",
       "      <td>0.043897</td>\n",
       "      <td>0.022420</td>\n",
       "      <td>0.823621</td>\n",
       "      <td>0</td>\n",
       "      <td>0</td>\n",
       "      <td>0</td>\n",
       "      <td>0</td>\n",
       "      <td>1</td>\n",
       "      <td>4</td>\n",
       "    </tr>\n",
       "    <tr>\n",
       "      <th>2</th>\n",
       "      <td>0</td>\n",
       "      <td>20</td>\n",
       "      <td>16</td>\n",
       "      <td>6</td>\n",
       "      <td>1</td>\n",
       "      <td>0.150628</td>\n",
       "      <td>0.545186</td>\n",
       "      <td>0.061412</td>\n",
       "      <td>0.114898</td>\n",
       "      <td>0.127875</td>\n",
       "      <td>0</td>\n",
       "      <td>1</td>\n",
       "      <td>0</td>\n",
       "      <td>0</td>\n",
       "      <td>0</td>\n",
       "      <td>1</td>\n",
       "    </tr>\n",
       "    <tr>\n",
       "      <th>3</th>\n",
       "      <td>0</td>\n",
       "      <td>23</td>\n",
       "      <td>16</td>\n",
       "      <td>77</td>\n",
       "      <td>4</td>\n",
       "      <td>0.050645</td>\n",
       "      <td>0.042304</td>\n",
       "      <td>0.033402</td>\n",
       "      <td>0.017825</td>\n",
       "      <td>0.855823</td>\n",
       "      <td>0</td>\n",
       "      <td>0</td>\n",
       "      <td>0</td>\n",
       "      <td>0</td>\n",
       "      <td>1</td>\n",
       "      <td>4</td>\n",
       "    </tr>\n",
       "    <tr>\n",
       "      <th>4</th>\n",
       "      <td>0</td>\n",
       "      <td>31</td>\n",
       "      <td>17</td>\n",
       "      <td>40</td>\n",
       "      <td>1</td>\n",
       "      <td>0.173664</td>\n",
       "      <td>0.474743</td>\n",
       "      <td>0.054137</td>\n",
       "      <td>0.061748</td>\n",
       "      <td>0.235708</td>\n",
       "      <td>0</td>\n",
       "      <td>1</td>\n",
       "      <td>0</td>\n",
       "      <td>0</td>\n",
       "      <td>0</td>\n",
       "      <td>1</td>\n",
       "    </tr>\n",
       "    <tr>\n",
       "      <th>...</th>\n",
       "      <td>...</td>\n",
       "      <td>...</td>\n",
       "      <td>...</td>\n",
       "      <td>...</td>\n",
       "      <td>...</td>\n",
       "      <td>...</td>\n",
       "      <td>...</td>\n",
       "      <td>...</td>\n",
       "      <td>...</td>\n",
       "      <td>...</td>\n",
       "      <td>...</td>\n",
       "      <td>...</td>\n",
       "      <td>...</td>\n",
       "      <td>...</td>\n",
       "      <td>...</td>\n",
       "      <td>...</td>\n",
       "    </tr>\n",
       "    <tr>\n",
       "      <th>195</th>\n",
       "      <td>0</td>\n",
       "      <td>35</td>\n",
       "      <td>120</td>\n",
       "      <td>79</td>\n",
       "      <td>2</td>\n",
       "      <td>0.144839</td>\n",
       "      <td>0.067374</td>\n",
       "      <td>0.543606</td>\n",
       "      <td>0.154911</td>\n",
       "      <td>0.089271</td>\n",
       "      <td>0</td>\n",
       "      <td>0</td>\n",
       "      <td>1</td>\n",
       "      <td>0</td>\n",
       "      <td>0</td>\n",
       "      <td>2</td>\n",
       "    </tr>\n",
       "    <tr>\n",
       "      <th>196</th>\n",
       "      <td>0</td>\n",
       "      <td>45</td>\n",
       "      <td>126</td>\n",
       "      <td>28</td>\n",
       "      <td>3</td>\n",
       "      <td>0.160012</td>\n",
       "      <td>0.094383</td>\n",
       "      <td>0.176179</td>\n",
       "      <td>0.498483</td>\n",
       "      <td>0.070943</td>\n",
       "      <td>0</td>\n",
       "      <td>0</td>\n",
       "      <td>0</td>\n",
       "      <td>1</td>\n",
       "      <td>0</td>\n",
       "      <td>3</td>\n",
       "    </tr>\n",
       "    <tr>\n",
       "      <th>197</th>\n",
       "      <td>1</td>\n",
       "      <td>32</td>\n",
       "      <td>126</td>\n",
       "      <td>74</td>\n",
       "      <td>2</td>\n",
       "      <td>0.157091</td>\n",
       "      <td>0.077254</td>\n",
       "      <td>0.478369</td>\n",
       "      <td>0.191235</td>\n",
       "      <td>0.096051</td>\n",
       "      <td>0</td>\n",
       "      <td>0</td>\n",
       "      <td>1</td>\n",
       "      <td>0</td>\n",
       "      <td>0</td>\n",
       "      <td>2</td>\n",
       "    </tr>\n",
       "    <tr>\n",
       "      <th>198</th>\n",
       "      <td>1</td>\n",
       "      <td>32</td>\n",
       "      <td>137</td>\n",
       "      <td>18</td>\n",
       "      <td>3</td>\n",
       "      <td>0.161754</td>\n",
       "      <td>0.109708</td>\n",
       "      <td>0.181130</td>\n",
       "      <td>0.463760</td>\n",
       "      <td>0.083648</td>\n",
       "      <td>0</td>\n",
       "      <td>0</td>\n",
       "      <td>0</td>\n",
       "      <td>1</td>\n",
       "      <td>0</td>\n",
       "      <td>3</td>\n",
       "    </tr>\n",
       "    <tr>\n",
       "      <th>199</th>\n",
       "      <td>1</td>\n",
       "      <td>30</td>\n",
       "      <td>137</td>\n",
       "      <td>83</td>\n",
       "      <td>2</td>\n",
       "      <td>0.162762</td>\n",
       "      <td>0.087202</td>\n",
       "      <td>0.447983</td>\n",
       "      <td>0.190641</td>\n",
       "      <td>0.111412</td>\n",
       "      <td>0</td>\n",
       "      <td>0</td>\n",
       "      <td>1</td>\n",
       "      <td>0</td>\n",
       "      <td>0</td>\n",
       "      <td>2</td>\n",
       "    </tr>\n",
       "  </tbody>\n",
       "</table>\n",
       "<p>200 rows × 16 columns</p>\n",
       "</div>"
      ],
      "text/plain": [
       "     Gender  Age  Annual Income (k$)  Spending Score (1-100)  Fuzzy_cluster  \\\n",
       "0         1   19                  15                      39              1   \n",
       "1         1   21                  15                      81              4   \n",
       "2         0   20                  16                       6              1   \n",
       "3         0   23                  16                      77              4   \n",
       "4         0   31                  17                      40              1   \n",
       "..      ...  ...                 ...                     ...            ...   \n",
       "195       0   35                 120                      79              2   \n",
       "196       0   45                 126                      28              3   \n",
       "197       1   32                 126                      74              2   \n",
       "198       1   32                 137                      18              3   \n",
       "199       1   30                 137                      83              2   \n",
       "\n",
       "          MF0       MF1       MF2       MF3       MF4  AMF0  AMF1  AMF2  AMF3  \\\n",
       "0    0.174805  0.379470  0.069387  0.076978  0.299360     0     1     0     0   \n",
       "1    0.060357  0.049704  0.043897  0.022420  0.823621     0     0     0     0   \n",
       "2    0.150628  0.545186  0.061412  0.114898  0.127875     0     1     0     0   \n",
       "3    0.050645  0.042304  0.033402  0.017825  0.855823     0     0     0     0   \n",
       "4    0.173664  0.474743  0.054137  0.061748  0.235708     0     1     0     0   \n",
       "..        ...       ...       ...       ...       ...   ...   ...   ...   ...   \n",
       "195  0.144839  0.067374  0.543606  0.154911  0.089271     0     0     1     0   \n",
       "196  0.160012  0.094383  0.176179  0.498483  0.070943     0     0     0     1   \n",
       "197  0.157091  0.077254  0.478369  0.191235  0.096051     0     0     1     0   \n",
       "198  0.161754  0.109708  0.181130  0.463760  0.083648     0     0     0     1   \n",
       "199  0.162762  0.087202  0.447983  0.190641  0.111412     0     0     1     0   \n",
       "\n",
       "     AMF4  AC_clusters  \n",
       "0       1            1  \n",
       "1       1            4  \n",
       "2       0            1  \n",
       "3       1            4  \n",
       "4       0            1  \n",
       "..    ...          ...  \n",
       "195     0            2  \n",
       "196     0            3  \n",
       "197     0            2  \n",
       "198     0            3  \n",
       "199     0            2  \n",
       "\n",
       "[200 rows x 16 columns]"
      ]
     },
     "execution_count": 28,
     "metadata": {},
     "output_type": "execute_result"
    }
   ],
   "source": [
    "fuzzy_df[\"AC_clusters\"] = AC_clusters\n",
    "fuzzy_df"
   ]
  },
  {
   "cell_type": "code",
   "execution_count": 29,
   "metadata": {},
   "outputs": [
    {
     "data": {
      "text/html": [
       "<div>\n",
       "<style scoped>\n",
       "    .dataframe tbody tr th:only-of-type {\n",
       "        vertical-align: middle;\n",
       "    }\n",
       "\n",
       "    .dataframe tbody tr th {\n",
       "        vertical-align: top;\n",
       "    }\n",
       "\n",
       "    .dataframe thead th {\n",
       "        text-align: right;\n",
       "    }\n",
       "</style>\n",
       "<table border=\"1\" class=\"dataframe\">\n",
       "  <thead>\n",
       "    <tr style=\"text-align: right;\">\n",
       "      <th></th>\n",
       "      <th>Gender</th>\n",
       "      <th>Age</th>\n",
       "      <th>Annual Income (k$)</th>\n",
       "      <th>Spending Score (1-100)</th>\n",
       "      <th>Fuzzy_cluster</th>\n",
       "      <th>MF0</th>\n",
       "      <th>MF1</th>\n",
       "      <th>MF2</th>\n",
       "      <th>MF3</th>\n",
       "      <th>MF4</th>\n",
       "      <th>AMF0</th>\n",
       "      <th>AMF1</th>\n",
       "      <th>AMF2</th>\n",
       "      <th>AMF3</th>\n",
       "      <th>AMF4</th>\n",
       "      <th>AC_clusters</th>\n",
       "    </tr>\n",
       "  </thead>\n",
       "  <tbody>\n",
       "    <tr>\n",
       "      <th>40</th>\n",
       "      <td>0</td>\n",
       "      <td>65</td>\n",
       "      <td>38</td>\n",
       "      <td>35</td>\n",
       "      <td>1</td>\n",
       "      <td>0.327117</td>\n",
       "      <td>0.456035</td>\n",
       "      <td>0.050633</td>\n",
       "      <td>0.084484</td>\n",
       "      <td>0.081731</td>\n",
       "      <td>1</td>\n",
       "      <td>1</td>\n",
       "      <td>0</td>\n",
       "      <td>0</td>\n",
       "      <td>0</td>\n",
       "      <td>0</td>\n",
       "    </tr>\n",
       "    <tr>\n",
       "      <th>42</th>\n",
       "      <td>1</td>\n",
       "      <td>48</td>\n",
       "      <td>39</td>\n",
       "      <td>36</td>\n",
       "      <td>1</td>\n",
       "      <td>0.292966</td>\n",
       "      <td>0.561182</td>\n",
       "      <td>0.031376</td>\n",
       "      <td>0.051981</td>\n",
       "      <td>0.062494</td>\n",
       "      <td>1</td>\n",
       "      <td>1</td>\n",
       "      <td>0</td>\n",
       "      <td>0</td>\n",
       "      <td>0</td>\n",
       "      <td>0</td>\n",
       "    </tr>\n",
       "    <tr>\n",
       "      <th>51</th>\n",
       "      <td>1</td>\n",
       "      <td>33</td>\n",
       "      <td>42</td>\n",
       "      <td>60</td>\n",
       "      <td>4</td>\n",
       "      <td>0.336059</td>\n",
       "      <td>0.113500</td>\n",
       "      <td>0.086794</td>\n",
       "      <td>0.049963</td>\n",
       "      <td>0.413684</td>\n",
       "      <td>1</td>\n",
       "      <td>0</td>\n",
       "      <td>0</td>\n",
       "      <td>0</td>\n",
       "      <td>1</td>\n",
       "      <td>0</td>\n",
       "    </tr>\n",
       "    <tr>\n",
       "      <th>142</th>\n",
       "      <td>0</td>\n",
       "      <td>28</td>\n",
       "      <td>76</td>\n",
       "      <td>40</td>\n",
       "      <td>3</td>\n",
       "      <td>0.306798</td>\n",
       "      <td>0.102244</td>\n",
       "      <td>0.150179</td>\n",
       "      <td>0.363643</td>\n",
       "      <td>0.077136</td>\n",
       "      <td>1</td>\n",
       "      <td>0</td>\n",
       "      <td>0</td>\n",
       "      <td>1</td>\n",
       "      <td>0</td>\n",
       "      <td>0</td>\n",
       "    </tr>\n",
       "    <tr>\n",
       "      <th>146</th>\n",
       "      <td>1</td>\n",
       "      <td>48</td>\n",
       "      <td>77</td>\n",
       "      <td>36</td>\n",
       "      <td>3</td>\n",
       "      <td>0.326667</td>\n",
       "      <td>0.085510</td>\n",
       "      <td>0.083951</td>\n",
       "      <td>0.458909</td>\n",
       "      <td>0.044963</td>\n",
       "      <td>1</td>\n",
       "      <td>0</td>\n",
       "      <td>0</td>\n",
       "      <td>1</td>\n",
       "      <td>0</td>\n",
       "      <td>0</td>\n",
       "    </tr>\n",
       "    <tr>\n",
       "      <th>160</th>\n",
       "      <td>0</td>\n",
       "      <td>56</td>\n",
       "      <td>79</td>\n",
       "      <td>35</td>\n",
       "      <td>3</td>\n",
       "      <td>0.311606</td>\n",
       "      <td>0.094938</td>\n",
       "      <td>0.089498</td>\n",
       "      <td>0.455868</td>\n",
       "      <td>0.048091</td>\n",
       "      <td>1</td>\n",
       "      <td>0</td>\n",
       "      <td>0</td>\n",
       "      <td>1</td>\n",
       "      <td>0</td>\n",
       "      <td>0</td>\n",
       "    </tr>\n",
       "  </tbody>\n",
       "</table>\n",
       "</div>"
      ],
      "text/plain": [
       "     Gender  Age  Annual Income (k$)  Spending Score (1-100)  Fuzzy_cluster  \\\n",
       "40        0   65                  38                      35              1   \n",
       "42        1   48                  39                      36              1   \n",
       "51        1   33                  42                      60              4   \n",
       "142       0   28                  76                      40              3   \n",
       "146       1   48                  77                      36              3   \n",
       "160       0   56                  79                      35              3   \n",
       "\n",
       "          MF0       MF1       MF2       MF3       MF4  AMF0  AMF1  AMF2  AMF3  \\\n",
       "40   0.327117  0.456035  0.050633  0.084484  0.081731     1     1     0     0   \n",
       "42   0.292966  0.561182  0.031376  0.051981  0.062494     1     1     0     0   \n",
       "51   0.336059  0.113500  0.086794  0.049963  0.413684     1     0     0     0   \n",
       "142  0.306798  0.102244  0.150179  0.363643  0.077136     1     0     0     1   \n",
       "146  0.326667  0.085510  0.083951  0.458909  0.044963     1     0     0     1   \n",
       "160  0.311606  0.094938  0.089498  0.455868  0.048091     1     0     0     1   \n",
       "\n",
       "     AMF4  AC_clusters  \n",
       "40      0            0  \n",
       "42      0            0  \n",
       "51      1            0  \n",
       "142     0            0  \n",
       "146     0            0  \n",
       "160     0            0  "
      ]
     },
     "execution_count": 29,
     "metadata": {},
     "output_type": "execute_result"
    }
   ],
   "source": [
    "wrong_predict = fuzzy_df[fuzzy_df.Fuzzy_cluster != fuzzy_df.AC_clusters] \n",
    "wrong_predict"
   ]
  },
  {
   "cell_type": "markdown",
   "metadata": {},
   "source": [
    "**alpha cut results in error if there is more than one membership function bigger than threshold so in this case applying arg max directly on the member functions is better** "
   ]
  },
  {
   "cell_type": "markdown",
   "metadata": {
    "id": "x3Pm8yJ5pONE"
   },
   "source": [
    "# Kmeans"
   ]
  },
  {
   "cell_type": "code",
   "execution_count": 30,
   "metadata": {
    "executionInfo": {
     "elapsed": 33,
     "status": "aborted",
     "timestamp": 1666374323835,
     "user": {
      "displayName": "Marwan Mohamed",
      "userId": "09285816182378030657"
     },
     "user_tz": -120
    },
    "id": "PXoMHR-5pONE"
   },
   "outputs": [
    {
     "data": {
      "text/html": [
       "<div>\n",
       "<style scoped>\n",
       "    .dataframe tbody tr th:only-of-type {\n",
       "        vertical-align: middle;\n",
       "    }\n",
       "\n",
       "    .dataframe tbody tr th {\n",
       "        vertical-align: top;\n",
       "    }\n",
       "\n",
       "    .dataframe thead th {\n",
       "        text-align: right;\n",
       "    }\n",
       "</style>\n",
       "<table border=\"1\" class=\"dataframe\">\n",
       "  <thead>\n",
       "    <tr style=\"text-align: right;\">\n",
       "      <th></th>\n",
       "      <th>Gender</th>\n",
       "      <th>Age</th>\n",
       "      <th>Annual Income (k$)</th>\n",
       "      <th>Spending Score (1-100)</th>\n",
       "    </tr>\n",
       "  </thead>\n",
       "  <tbody>\n",
       "    <tr>\n",
       "      <th>0</th>\n",
       "      <td>1</td>\n",
       "      <td>19</td>\n",
       "      <td>15</td>\n",
       "      <td>39</td>\n",
       "    </tr>\n",
       "    <tr>\n",
       "      <th>1</th>\n",
       "      <td>1</td>\n",
       "      <td>21</td>\n",
       "      <td>15</td>\n",
       "      <td>81</td>\n",
       "    </tr>\n",
       "    <tr>\n",
       "      <th>2</th>\n",
       "      <td>0</td>\n",
       "      <td>20</td>\n",
       "      <td>16</td>\n",
       "      <td>6</td>\n",
       "    </tr>\n",
       "    <tr>\n",
       "      <th>3</th>\n",
       "      <td>0</td>\n",
       "      <td>23</td>\n",
       "      <td>16</td>\n",
       "      <td>77</td>\n",
       "    </tr>\n",
       "    <tr>\n",
       "      <th>4</th>\n",
       "      <td>0</td>\n",
       "      <td>31</td>\n",
       "      <td>17</td>\n",
       "      <td>40</td>\n",
       "    </tr>\n",
       "    <tr>\n",
       "      <th>...</th>\n",
       "      <td>...</td>\n",
       "      <td>...</td>\n",
       "      <td>...</td>\n",
       "      <td>...</td>\n",
       "    </tr>\n",
       "    <tr>\n",
       "      <th>195</th>\n",
       "      <td>0</td>\n",
       "      <td>35</td>\n",
       "      <td>120</td>\n",
       "      <td>79</td>\n",
       "    </tr>\n",
       "    <tr>\n",
       "      <th>196</th>\n",
       "      <td>0</td>\n",
       "      <td>45</td>\n",
       "      <td>126</td>\n",
       "      <td>28</td>\n",
       "    </tr>\n",
       "    <tr>\n",
       "      <th>197</th>\n",
       "      <td>1</td>\n",
       "      <td>32</td>\n",
       "      <td>126</td>\n",
       "      <td>74</td>\n",
       "    </tr>\n",
       "    <tr>\n",
       "      <th>198</th>\n",
       "      <td>1</td>\n",
       "      <td>32</td>\n",
       "      <td>137</td>\n",
       "      <td>18</td>\n",
       "    </tr>\n",
       "    <tr>\n",
       "      <th>199</th>\n",
       "      <td>1</td>\n",
       "      <td>30</td>\n",
       "      <td>137</td>\n",
       "      <td>83</td>\n",
       "    </tr>\n",
       "  </tbody>\n",
       "</table>\n",
       "<p>200 rows × 4 columns</p>\n",
       "</div>"
      ],
      "text/plain": [
       "     Gender  Age  Annual Income (k$)  Spending Score (1-100)\n",
       "0         1   19                  15                      39\n",
       "1         1   21                  15                      81\n",
       "2         0   20                  16                       6\n",
       "3         0   23                  16                      77\n",
       "4         0   31                  17                      40\n",
       "..      ...  ...                 ...                     ...\n",
       "195       0   35                 120                      79\n",
       "196       0   45                 126                      28\n",
       "197       1   32                 126                      74\n",
       "198       1   32                 137                      18\n",
       "199       1   30                 137                      83\n",
       "\n",
       "[200 rows x 4 columns]"
      ]
     },
     "execution_count": 30,
     "metadata": {},
     "output_type": "execute_result"
    }
   ],
   "source": [
    "#copy the dataframe\n",
    "kmean_df = df.copy()\n",
    "kmean_df"
   ]
  },
  {
   "cell_type": "markdown",
   "metadata": {},
   "source": [
    "## fitting and predicting the data"
   ]
  },
  {
   "cell_type": "code",
   "execution_count": 31,
   "metadata": {
    "executionInfo": {
     "elapsed": 33,
     "status": "aborted",
     "timestamp": 1666374323835,
     "user": {
      "displayName": "Marwan Mohamed",
      "userId": "09285816182378030657"
     },
     "user_tz": -120
    },
    "id": "T4R_zf0ypONE"
   },
   "outputs": [],
   "source": [
    "km = KMeans(n_clusters=5) \n",
    "km_labels = km.fit_predict(kmean_df.values)"
   ]
  },
  {
   "cell_type": "code",
   "execution_count": 32,
   "metadata": {},
   "outputs": [
    {
     "data": {
      "text/plain": [
       "array([[ 0.46153846, 32.69230769, 86.53846154, 82.12820513],\n",
       "       [ 0.51351351, 40.32432432, 87.43243243, 18.18918919],\n",
       "       [ 0.39130435, 45.2173913 , 26.30434783, 20.91304348],\n",
       "       [ 0.40789474, 43.93421053, 55.21052632, 49.44736842],\n",
       "       [ 0.44      , 24.96      , 28.04      , 77.        ]])"
      ]
     },
     "execution_count": 32,
     "metadata": {},
     "output_type": "execute_result"
    }
   ],
   "source": [
    "#get the centers\n",
    "km_centers = km.cluster_centers_\n",
    "km_centers"
   ]
  },
  {
   "cell_type": "code",
   "execution_count": 33,
   "metadata": {
    "executionInfo": {
     "elapsed": 34,
     "status": "aborted",
     "timestamp": 1666374323837,
     "user": {
      "displayName": "Marwan Mohamed",
      "userId": "09285816182378030657"
     },
     "user_tz": -120
    },
    "id": "CZWOR0JfpONE"
   },
   "outputs": [
    {
     "data": {
      "text/html": [
       "<div>\n",
       "<style scoped>\n",
       "    .dataframe tbody tr th:only-of-type {\n",
       "        vertical-align: middle;\n",
       "    }\n",
       "\n",
       "    .dataframe tbody tr th {\n",
       "        vertical-align: top;\n",
       "    }\n",
       "\n",
       "    .dataframe thead th {\n",
       "        text-align: right;\n",
       "    }\n",
       "</style>\n",
       "<table border=\"1\" class=\"dataframe\">\n",
       "  <thead>\n",
       "    <tr style=\"text-align: right;\">\n",
       "      <th></th>\n",
       "      <th>Gender</th>\n",
       "      <th>Age</th>\n",
       "      <th>Annual Income (k$)</th>\n",
       "      <th>Spending Score (1-100)</th>\n",
       "      <th>KMean_cluster</th>\n",
       "    </tr>\n",
       "  </thead>\n",
       "  <tbody>\n",
       "    <tr>\n",
       "      <th>0</th>\n",
       "      <td>1</td>\n",
       "      <td>19</td>\n",
       "      <td>15</td>\n",
       "      <td>39</td>\n",
       "      <td>2</td>\n",
       "    </tr>\n",
       "    <tr>\n",
       "      <th>1</th>\n",
       "      <td>1</td>\n",
       "      <td>21</td>\n",
       "      <td>15</td>\n",
       "      <td>81</td>\n",
       "      <td>4</td>\n",
       "    </tr>\n",
       "    <tr>\n",
       "      <th>2</th>\n",
       "      <td>0</td>\n",
       "      <td>20</td>\n",
       "      <td>16</td>\n",
       "      <td>6</td>\n",
       "      <td>2</td>\n",
       "    </tr>\n",
       "    <tr>\n",
       "      <th>3</th>\n",
       "      <td>0</td>\n",
       "      <td>23</td>\n",
       "      <td>16</td>\n",
       "      <td>77</td>\n",
       "      <td>4</td>\n",
       "    </tr>\n",
       "    <tr>\n",
       "      <th>4</th>\n",
       "      <td>0</td>\n",
       "      <td>31</td>\n",
       "      <td>17</td>\n",
       "      <td>40</td>\n",
       "      <td>2</td>\n",
       "    </tr>\n",
       "    <tr>\n",
       "      <th>...</th>\n",
       "      <td>...</td>\n",
       "      <td>...</td>\n",
       "      <td>...</td>\n",
       "      <td>...</td>\n",
       "      <td>...</td>\n",
       "    </tr>\n",
       "    <tr>\n",
       "      <th>195</th>\n",
       "      <td>0</td>\n",
       "      <td>35</td>\n",
       "      <td>120</td>\n",
       "      <td>79</td>\n",
       "      <td>0</td>\n",
       "    </tr>\n",
       "    <tr>\n",
       "      <th>196</th>\n",
       "      <td>0</td>\n",
       "      <td>45</td>\n",
       "      <td>126</td>\n",
       "      <td>28</td>\n",
       "      <td>1</td>\n",
       "    </tr>\n",
       "    <tr>\n",
       "      <th>197</th>\n",
       "      <td>1</td>\n",
       "      <td>32</td>\n",
       "      <td>126</td>\n",
       "      <td>74</td>\n",
       "      <td>0</td>\n",
       "    </tr>\n",
       "    <tr>\n",
       "      <th>198</th>\n",
       "      <td>1</td>\n",
       "      <td>32</td>\n",
       "      <td>137</td>\n",
       "      <td>18</td>\n",
       "      <td>1</td>\n",
       "    </tr>\n",
       "    <tr>\n",
       "      <th>199</th>\n",
       "      <td>1</td>\n",
       "      <td>30</td>\n",
       "      <td>137</td>\n",
       "      <td>83</td>\n",
       "      <td>0</td>\n",
       "    </tr>\n",
       "  </tbody>\n",
       "</table>\n",
       "<p>200 rows × 5 columns</p>\n",
       "</div>"
      ],
      "text/plain": [
       "     Gender  Age  Annual Income (k$)  Spending Score (1-100)  KMean_cluster\n",
       "0         1   19                  15                      39              2\n",
       "1         1   21                  15                      81              4\n",
       "2         0   20                  16                       6              2\n",
       "3         0   23                  16                      77              4\n",
       "4         0   31                  17                      40              2\n",
       "..      ...  ...                 ...                     ...            ...\n",
       "195       0   35                 120                      79              0\n",
       "196       0   45                 126                      28              1\n",
       "197       1   32                 126                      74              0\n",
       "198       1   32                 137                      18              1\n",
       "199       1   30                 137                      83              0\n",
       "\n",
       "[200 rows x 5 columns]"
      ]
     },
     "execution_count": 33,
     "metadata": {},
     "output_type": "execute_result"
    }
   ],
   "source": [
    "#add predicted clusters to the dataset\n",
    "kmean_df['KMean_cluster'] = km_labels\n",
    "kmean_df"
   ]
  },
  {
   "cell_type": "markdown",
   "metadata": {},
   "source": [
    "## plot the clusters"
   ]
  },
  {
   "cell_type": "code",
   "execution_count": 34,
   "metadata": {
    "executionInfo": {
     "elapsed": 35,
     "status": "aborted",
     "timestamp": 1666374323838,
     "user": {
      "displayName": "Marwan Mohamed",
      "userId": "09285816182378030657"
     },
     "user_tz": -120
    },
    "id": "ety4bzhspONF"
   },
   "outputs": [
    {
     "data": {
      "image/png": "[encoded data removed]",
      "text/plain": [
       "<Figure size 864x432 with 1 Axes>"
      ]
     },
     "metadata": {
      "needs_background": "light"
     },
     "output_type": "display_data"
    }
   ],
   "source": [
    "#plot clusters in the relationplot between age and Spending Score\n",
    "plt.figure(figsize=(12,6))\n",
    "sns.scatterplot(x='Age', y='Spending Score (1-100)', hue='KMean_cluster', size='Gender', data=kmean_df, palette = \"bright\")\n",
    "sns.scatterplot(x=km_centers[:,1],y=km_centers[:,3], marker=\"+\", s=500, c='black')\n",
    "plt.legend(loc =\"upper right\")\n",
    "plt.xlabel(\"Age\")\n",
    "plt.ylabel(\"Spending Score\")\n",
    "plt.show();"
   ]
  },
  {
   "cell_type": "code",
   "execution_count": 35,
   "metadata": {
    "executionInfo": {
     "elapsed": 35,
     "status": "aborted",
     "timestamp": 1666374323838,
     "user": {
      "displayName": "Marwan Mohamed",
      "userId": "09285816182378030657"
     },
     "user_tz": -120
    },
    "id": "mVjhUdP4pONF"
   },
   "outputs": [
    {
     "data": {
      "image/png": "[encoded data removed]",
      "text/plain": [
       "<Figure size 864x432 with 1 Axes>"
      ]
     },
     "metadata": {
      "needs_background": "light"
     },
     "output_type": "display_data"
    }
   ],
   "source": [
    "#plot clusters in the relationplot between Annual Income and Spending Score\n",
    "plt.figure(figsize=(12,6))\n",
    "sns.scatterplot(x='Spending Score (1-100)', y=r'Annual Income (k$)',\n",
    "                hue='KMean_cluster', size='Gender', data=kmean_df, palette = \"bright\")\n",
    "sns.scatterplot(x=km_centers[:,2],y=km_centers[:,3], marker=\"+\", s=500, c='black')\n",
    "plt.legend(loc =\"upper right\")\n",
    "plt.ylabel(\"Annual Income\")\n",
    "plt.xlabel(\"Spending Score\")\n",
    "plt.show();"
   ]
  },
  {
   "cell_type": "code",
   "execution_count": 36,
   "metadata": {
    "executionInfo": {
     "elapsed": 35,
     "status": "aborted",
     "timestamp": 1666374323839,
     "user": {
      "displayName": "Marwan Mohamed",
      "userId": "09285816182378030657"
     },
     "user_tz": -120
    },
    "id": "kScvntfupONF"
   },
   "outputs": [
    {
     "data": {
      "image/png": "[encoded data removed]",
      "text/plain": [
       "<Figure size 864x432 with 1 Axes>"
      ]
     },
     "metadata": {
      "needs_background": "light"
     },
     "output_type": "display_data"
    }
   ],
   "source": [
    "#plot clusters in the relationplot between Annual Income and age\n",
    "plt.figure(figsize=(12,6))\n",
    "sns.scatterplot(y='Annual Income (k$)', x='Age', hue='KMean_cluster', size='Gender', data=kmean_df, palette = \"bright\")\n",
    "sns.scatterplot(x=km_centers[:,1],y=km_centers[:,2], marker=\"+\", s=500, c='black')\n",
    "plt.legend(loc =\"upper right\")\n",
    "plt.xlabel(\"Age\")\n",
    "plt.ylabel(\"Annual Income\")\n",
    "plt.show();"
   ]
  },
  {
   "cell_type": "markdown",
   "metadata": {},
   "source": [
    "***after training we found that c means is better than k means in terms of accuracy and clustering but requires more time and computational power to compute***"
   ]
  }
 ],
 "metadata": {
  "colab": {
   "provenance": []
  },
  "kernelspec": {
   "display_name": "Python 3.10.8 64-bit",
   "language": "python",
   "name": "python3"
  },
  "language_info": {
   "codemirror_mode": {
    "name": "ipython",
    "version": 3
   },
   "file_extension": ".py",
   "mimetype": "text/x-python",
   "name": "python",
   "nbconvert_exporter": "python",
   "pygments_lexer": "ipython3",
   "version": "3.10.8"
  },
  "vscode": {
   "interpreter": {
    "hash": "3f4c40a06b657b2d6ce10ead4079a03f96f0d0308093b06e604c3c7a199e49b4"
   }
  }
 },
 "nbformat": 4,
 "nbformat_minor": 1
}
